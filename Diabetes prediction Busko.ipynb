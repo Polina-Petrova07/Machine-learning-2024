{
 "cells": [
  {
   "cell_type": "markdown",
   "id": "7da319d7",
   "metadata": {},
   "source": [
    "# Домашнее задание №1. Бусько Полина."
   ]
  },
  {
   "cell_type": "markdown",
   "id": "b47d941d",
   "metadata": {},
   "source": [
    "## Меню ноутбука: <a id='menu'></a>\n",
    "\n",
    "<ul>\n",
    "    <li><a href='#libs'>Подключение библиотек</a></li>\n",
    "    <li><a href='#problem'>Постановка задачи</a></li>\n",
    "    <li><a href='#readdata'>Прочитать данные</a></li>\n",
    "    <li><a href='#datachar'>Визуализировать данные и вычислить основные характеристики (среднее, разброс, корреляционную матрицу и т.д.). Интерпретировать</a></li>\n",
    "    <li><a href='#datanun'>Обработать пропущенные значения</a></li>\n",
    "    <li><a href='#datacateg'>Обработать категориальные признаки</a></li>\n",
    "    <li><a href='#norm'>Провести нормализацию</a></li>\n",
    "    <li><a href='#datatrainrest'>Разбить данные на обучающую и тестовую выборки</a></li>\n",
    "    <li><a href='#knn'>Запустить классификатор ближайших соседей</a></li>\n",
    "    <li><a href='#another'>Другие классификаторы</a></li>\n",
    "    <li><a href='#conclusions'>Выводы</a></li>\n",
    "</ul>"
   ]
  },
  {
   "cell_type": "markdown",
   "id": "0caefd14",
   "metadata": {},
   "source": [
    "<a id='libs'></a>(<a href='#menu'>в общее меню</a>)"
   ]
  },
  {
   "cell_type": "code",
   "execution_count": 1,
   "id": "3a3a0655",
   "metadata": {},
   "outputs": [],
   "source": [
    "import numpy as np\n",
    "import matplotlib.pyplot as plt\n",
    "import pandas as pd\n",
    "import seaborn as sns\n",
    "import sklearn\n",
    "import nltk\n",
    "import re\n",
    "from sklearn.preprocessing import LabelEncoder\n",
    "from sklearn import preprocessing\n",
    "from sklearn.model_selection import train_test_split\n",
    "from sklearn.neighbors import KNeighborsClassifier\n",
    "from sklearn.metrics import classification_report\n",
    "from sklearn.preprocessing import LabelEncoder\n",
    "from imblearn.over_sampling import SMOTE\n",
    "from sklearn.model_selection import GridSearchCV\n",
    "from sklearn.model_selection import cross_val_score\n",
    "from sklearn.metrics import (confusion_matrix, classification_report, accuracy_score,\n",
    "                             precision_score, recall_score, roc_curve, roc_auc_score, \n",
    "                             precision_recall_curve, fbeta_score, auc)\n",
    "from sklearn.svm import SVC"
   ]
  },
  {
   "cell_type": "markdown",
   "id": "ca3f1144",
   "metadata": {},
   "source": [
    "## 0. Поставновка задачи. <a id='problrm'></a>(<a href='#menu'>в общее меню</a>)\n",
    "\n",
    "Набор данных представляет собой совокупность медицинских и демографических данных пациента, а также данные о наличии или отсутсвии заболевания диабетом.\n",
    "Данные включают в себя следующие характеристики: возраст, пол, индекс массы тела (ИМТ), гипертония, болезни сердца, история курения, уровень HbA1c и уровень глюкозы в крови.\n",
    "\n",
    "Будем решать задачу классификации. Для этого выберем предсказание наличия или отсутствия заболевания диабетом у пациента."
   ]
  },
  {
   "cell_type": "markdown",
   "id": "db75de6b",
   "metadata": {},
   "source": [
    "## 1. Прочитать данные. <a id='readdata'></a>(<a href='#menu'>в общее меню</a>)"
   ]
  },
  {
   "cell_type": "code",
   "execution_count": 2,
   "id": "08277c90",
   "metadata": {},
   "outputs": [],
   "source": [
    "file_path = 'diabetes_prediction_dataset.csv'\n",
    "data = pd.read_csv(file_path)"
   ]
  },
  {
   "cell_type": "markdown",
   "id": "759f067c",
   "metadata": {},
   "source": [
    "Первые и последние значения из таблицы данных:"
   ]
  },
  {
   "cell_type": "code",
   "execution_count": 3,
   "id": "67d69f4f",
   "metadata": {},
   "outputs": [
    {
     "data": {
      "text/html": [
       "<div>\n",
       "<style scoped>\n",
       "    .dataframe tbody tr th:only-of-type {\n",
       "        vertical-align: middle;\n",
       "    }\n",
       "\n",
       "    .dataframe tbody tr th {\n",
       "        vertical-align: top;\n",
       "    }\n",
       "\n",
       "    .dataframe thead th {\n",
       "        text-align: right;\n",
       "    }\n",
       "</style>\n",
       "<table border=\"1\" class=\"dataframe\">\n",
       "  <thead>\n",
       "    <tr style=\"text-align: right;\">\n",
       "      <th></th>\n",
       "      <th>gender</th>\n",
       "      <th>age</th>\n",
       "      <th>hypertension</th>\n",
       "      <th>heart_disease</th>\n",
       "      <th>smoking_history</th>\n",
       "      <th>bmi</th>\n",
       "      <th>HbA1c_level</th>\n",
       "      <th>blood_glucose_level</th>\n",
       "      <th>diabetes</th>\n",
       "    </tr>\n",
       "  </thead>\n",
       "  <tbody>\n",
       "    <tr>\n",
       "      <th>0</th>\n",
       "      <td>Female</td>\n",
       "      <td>80.0</td>\n",
       "      <td>0</td>\n",
       "      <td>1</td>\n",
       "      <td>never</td>\n",
       "      <td>25.19</td>\n",
       "      <td>6.6</td>\n",
       "      <td>140</td>\n",
       "      <td>0</td>\n",
       "    </tr>\n",
       "    <tr>\n",
       "      <th>1</th>\n",
       "      <td>Female</td>\n",
       "      <td>54.0</td>\n",
       "      <td>0</td>\n",
       "      <td>0</td>\n",
       "      <td>No Info</td>\n",
       "      <td>27.32</td>\n",
       "      <td>6.6</td>\n",
       "      <td>80</td>\n",
       "      <td>0</td>\n",
       "    </tr>\n",
       "    <tr>\n",
       "      <th>2</th>\n",
       "      <td>Male</td>\n",
       "      <td>28.0</td>\n",
       "      <td>0</td>\n",
       "      <td>0</td>\n",
       "      <td>never</td>\n",
       "      <td>27.32</td>\n",
       "      <td>5.7</td>\n",
       "      <td>158</td>\n",
       "      <td>0</td>\n",
       "    </tr>\n",
       "    <tr>\n",
       "      <th>3</th>\n",
       "      <td>Female</td>\n",
       "      <td>36.0</td>\n",
       "      <td>0</td>\n",
       "      <td>0</td>\n",
       "      <td>current</td>\n",
       "      <td>23.45</td>\n",
       "      <td>5.0</td>\n",
       "      <td>155</td>\n",
       "      <td>0</td>\n",
       "    </tr>\n",
       "    <tr>\n",
       "      <th>4</th>\n",
       "      <td>Male</td>\n",
       "      <td>76.0</td>\n",
       "      <td>1</td>\n",
       "      <td>1</td>\n",
       "      <td>current</td>\n",
       "      <td>20.14</td>\n",
       "      <td>4.8</td>\n",
       "      <td>155</td>\n",
       "      <td>0</td>\n",
       "    </tr>\n",
       "    <tr>\n",
       "      <th>...</th>\n",
       "      <td>...</td>\n",
       "      <td>...</td>\n",
       "      <td>...</td>\n",
       "      <td>...</td>\n",
       "      <td>...</td>\n",
       "      <td>...</td>\n",
       "      <td>...</td>\n",
       "      <td>...</td>\n",
       "      <td>...</td>\n",
       "    </tr>\n",
       "    <tr>\n",
       "      <th>99995</th>\n",
       "      <td>Female</td>\n",
       "      <td>80.0</td>\n",
       "      <td>0</td>\n",
       "      <td>0</td>\n",
       "      <td>No Info</td>\n",
       "      <td>27.32</td>\n",
       "      <td>6.2</td>\n",
       "      <td>90</td>\n",
       "      <td>0</td>\n",
       "    </tr>\n",
       "    <tr>\n",
       "      <th>99996</th>\n",
       "      <td>Female</td>\n",
       "      <td>2.0</td>\n",
       "      <td>0</td>\n",
       "      <td>0</td>\n",
       "      <td>No Info</td>\n",
       "      <td>17.37</td>\n",
       "      <td>6.5</td>\n",
       "      <td>100</td>\n",
       "      <td>0</td>\n",
       "    </tr>\n",
       "    <tr>\n",
       "      <th>99997</th>\n",
       "      <td>Male</td>\n",
       "      <td>66.0</td>\n",
       "      <td>0</td>\n",
       "      <td>0</td>\n",
       "      <td>former</td>\n",
       "      <td>27.83</td>\n",
       "      <td>5.7</td>\n",
       "      <td>155</td>\n",
       "      <td>0</td>\n",
       "    </tr>\n",
       "    <tr>\n",
       "      <th>99998</th>\n",
       "      <td>Female</td>\n",
       "      <td>24.0</td>\n",
       "      <td>0</td>\n",
       "      <td>0</td>\n",
       "      <td>never</td>\n",
       "      <td>35.42</td>\n",
       "      <td>4.0</td>\n",
       "      <td>100</td>\n",
       "      <td>0</td>\n",
       "    </tr>\n",
       "    <tr>\n",
       "      <th>99999</th>\n",
       "      <td>Female</td>\n",
       "      <td>57.0</td>\n",
       "      <td>0</td>\n",
       "      <td>0</td>\n",
       "      <td>current</td>\n",
       "      <td>22.43</td>\n",
       "      <td>6.6</td>\n",
       "      <td>90</td>\n",
       "      <td>0</td>\n",
       "    </tr>\n",
       "  </tbody>\n",
       "</table>\n",
       "<p>100000 rows × 9 columns</p>\n",
       "</div>"
      ],
      "text/plain": [
       "       gender   age  hypertension  heart_disease smoking_history    bmi  \\\n",
       "0      Female  80.0             0              1           never  25.19   \n",
       "1      Female  54.0             0              0         No Info  27.32   \n",
       "2        Male  28.0             0              0           never  27.32   \n",
       "3      Female  36.0             0              0         current  23.45   \n",
       "4        Male  76.0             1              1         current  20.14   \n",
       "...       ...   ...           ...            ...             ...    ...   \n",
       "99995  Female  80.0             0              0         No Info  27.32   \n",
       "99996  Female   2.0             0              0         No Info  17.37   \n",
       "99997    Male  66.0             0              0          former  27.83   \n",
       "99998  Female  24.0             0              0           never  35.42   \n",
       "99999  Female  57.0             0              0         current  22.43   \n",
       "\n",
       "       HbA1c_level  blood_glucose_level  diabetes  \n",
       "0              6.6                  140         0  \n",
       "1              6.6                   80         0  \n",
       "2              5.7                  158         0  \n",
       "3              5.0                  155         0  \n",
       "4              4.8                  155         0  \n",
       "...            ...                  ...       ...  \n",
       "99995          6.2                   90         0  \n",
       "99996          6.5                  100         0  \n",
       "99997          5.7                  155         0  \n",
       "99998          4.0                  100         0  \n",
       "99999          6.6                   90         0  \n",
       "\n",
       "[100000 rows x 9 columns]"
      ]
     },
     "execution_count": 3,
     "metadata": {},
     "output_type": "execute_result"
    }
   ],
   "source": [
    "data"
   ]
  },
  {
   "cell_type": "code",
   "execution_count": 4,
   "id": "47d6a668",
   "metadata": {},
   "outputs": [
    {
     "name": "stdout",
     "output_type": "stream",
     "text": [
      "Количество объектов =  100000\n",
      "Количество признаков у каждого объекта: =  9\n"
     ]
    }
   ],
   "source": [
    "print(\"Количество объектов = \", data.shape[0])\n",
    "print(\"Количество признаков у каждого объекта: = \", data.shape[1])"
   ]
  },
  {
   "cell_type": "markdown",
   "id": "29ceb866",
   "metadata": {},
   "source": [
    "Выведем информацию о датасете:"
   ]
  },
  {
   "cell_type": "code",
   "execution_count": 5,
   "id": "e4f96ea5",
   "metadata": {},
   "outputs": [
    {
     "name": "stdout",
     "output_type": "stream",
     "text": [
      "<class 'pandas.core.frame.DataFrame'>\n",
      "RangeIndex: 100000 entries, 0 to 99999\n",
      "Data columns (total 9 columns):\n",
      " #   Column               Non-Null Count   Dtype  \n",
      "---  ------               --------------   -----  \n",
      " 0   gender               100000 non-null  object \n",
      " 1   age                  100000 non-null  float64\n",
      " 2   hypertension         100000 non-null  int64  \n",
      " 3   heart_disease        100000 non-null  int64  \n",
      " 4   smoking_history      100000 non-null  object \n",
      " 5   bmi                  100000 non-null  float64\n",
      " 6   HbA1c_level          100000 non-null  float64\n",
      " 7   blood_glucose_level  100000 non-null  int64  \n",
      " 8   diabetes             100000 non-null  int64  \n",
      "dtypes: float64(3), int64(4), object(2)\n",
      "memory usage: 6.9+ MB\n"
     ]
    }
   ],
   "source": [
    "data.info()"
   ]
  },
  {
   "cell_type": "markdown",
   "id": "b8de7819",
   "metadata": {},
   "source": [
    "Отсюда видно, что имеются следующие признаки:"
   ]
  },
  {
   "cell_type": "markdown",
   "id": "c5574569",
   "metadata": {},
   "source": [
    "+ gender - пол\n",
    "+ age - возраст\n",
    "+ hypertension - гипертония (наличие/отсутствие)\n",
    "+ heart_disease - болезнь сердца (наличие/отсутсвие)\n",
    "+ smoking_history - Курение\n",
    "+ bmi - Индекс массы тела\n",
    "+ HbA1c_level - гликированный гемоглобин\n",
    "+ blood_glucose_level - уровень глюкозы\n",
    "+ diabetes - Диабет (наличие/отсутвие) - целевая переменная."
   ]
  },
  {
   "cell_type": "markdown",
   "id": "c281a633",
   "metadata": {},
   "source": [
    "Поиск дубликатов:"
   ]
  },
  {
   "cell_type": "code",
   "execution_count": 6,
   "id": "3c4dd4f4",
   "metadata": {},
   "outputs": [
    {
     "data": {
      "text/plain": [
       "3854"
      ]
     },
     "execution_count": 6,
     "metadata": {},
     "output_type": "execute_result"
    }
   ],
   "source": [
    "data.duplicated().sum()"
   ]
  },
  {
   "cell_type": "markdown",
   "id": "fee2c994",
   "metadata": {},
   "source": [
    "Удаление дубликатов:"
   ]
  },
  {
   "cell_type": "code",
   "execution_count": 7,
   "id": "52f89507",
   "metadata": {},
   "outputs": [
    {
     "data": {
      "text/plain": [
       "0"
      ]
     },
     "execution_count": 7,
     "metadata": {},
     "output_type": "execute_result"
    }
   ],
   "source": [
    "data.drop_duplicates(inplace = True)\n",
    "data.duplicated().sum()"
   ]
  },
  {
   "cell_type": "markdown",
   "id": "3da03648",
   "metadata": {},
   "source": [
    "Посмотрим на строковые признаки:"
   ]
  },
  {
   "cell_type": "code",
   "execution_count": 8,
   "id": "6a7254db",
   "metadata": {},
   "outputs": [
    {
     "data": {
      "text/html": [
       "<div>\n",
       "<style scoped>\n",
       "    .dataframe tbody tr th:only-of-type {\n",
       "        vertical-align: middle;\n",
       "    }\n",
       "\n",
       "    .dataframe tbody tr th {\n",
       "        vertical-align: top;\n",
       "    }\n",
       "\n",
       "    .dataframe thead th {\n",
       "        text-align: right;\n",
       "    }\n",
       "</style>\n",
       "<table border=\"1\" class=\"dataframe\">\n",
       "  <thead>\n",
       "    <tr style=\"text-align: right;\">\n",
       "      <th></th>\n",
       "      <th>gender</th>\n",
       "      <th>smoking_history</th>\n",
       "    </tr>\n",
       "  </thead>\n",
       "  <tbody>\n",
       "    <tr>\n",
       "      <th>count</th>\n",
       "      <td>96146</td>\n",
       "      <td>96146</td>\n",
       "    </tr>\n",
       "    <tr>\n",
       "      <th>unique</th>\n",
       "      <td>3</td>\n",
       "      <td>6</td>\n",
       "    </tr>\n",
       "    <tr>\n",
       "      <th>top</th>\n",
       "      <td>Female</td>\n",
       "      <td>never</td>\n",
       "    </tr>\n",
       "    <tr>\n",
       "      <th>freq</th>\n",
       "      <td>56161</td>\n",
       "      <td>34398</td>\n",
       "    </tr>\n",
       "  </tbody>\n",
       "</table>\n",
       "</div>"
      ],
      "text/plain": [
       "        gender smoking_history\n",
       "count    96146           96146\n",
       "unique       3               6\n",
       "top     Female           never\n",
       "freq     56161           34398"
      ]
     },
     "execution_count": 8,
     "metadata": {},
     "output_type": "execute_result"
    }
   ],
   "source": [
    "data.describe(include= 'object')"
   ]
  },
  {
   "cell_type": "code",
   "execution_count": 9,
   "id": "b1ff1171",
   "metadata": {},
   "outputs": [
    {
     "data": {
      "text/plain": [
       "Female    56161\n",
       "Male      39967\n",
       "Other        18\n",
       "Name: gender, dtype: int64"
      ]
     },
     "execution_count": 9,
     "metadata": {},
     "output_type": "execute_result"
    }
   ],
   "source": [
    "data['gender'].value_counts()"
   ]
  },
  {
   "cell_type": "markdown",
   "id": "e87bbf5b",
   "metadata": {},
   "source": [
    "Признак \"Пол\", помимо мужского и женского, включает в себя третий - \"other\", в небольшом количестве (18 шт). Удалим этот признак без риска потери информативности данных."
   ]
  },
  {
   "cell_type": "code",
   "execution_count": 10,
   "id": "535053d6",
   "metadata": {},
   "outputs": [],
   "source": [
    "data = data[data['gender'] != 'Other']"
   ]
  },
  {
   "cell_type": "code",
   "execution_count": 11,
   "id": "f49a2af8",
   "metadata": {},
   "outputs": [
    {
     "data": {
      "text/plain": [
       "never          34395\n",
       "No Info        32881\n",
       "former          9299\n",
       "current         9197\n",
       "not current     6359\n",
       "ever            3997\n",
       "Name: smoking_history, dtype: int64"
      ]
     },
     "execution_count": 11,
     "metadata": {},
     "output_type": "execute_result"
    }
   ],
   "source": [
    "data['smoking_history'].value_counts()"
   ]
  },
  {
   "cell_type": "markdown",
   "id": "c196ac4a",
   "metadata": {},
   "source": [
    "Признак 'smoking_history' включает в себя следующие категории:\n",
    "\n",
    "+ No Info - нет информации\n",
    "+ never - никогда \n",
    "+ former - бывший\n",
    "+ current - курит в настоящее время\n",
    "+ not current - не курит в настоящее время (возможно бывший)\n",
    "+ ever - когда-либо курил\n",
    "\n",
    "По количество значений видно, что процент людей, про историю курения которых нет информации, примерно равен 35%.  \n",
    "Проверим это:"
   ]
  },
  {
   "cell_type": "code",
   "execution_count": 12,
   "id": "786d48b6",
   "metadata": {},
   "outputs": [
    {
     "name": "stdout",
     "output_type": "stream",
     "text": [
      "% No Info =  34.2054344207723\n"
     ]
    }
   ],
   "source": [
    "print (\"% No Info = \", data[data['smoking_history'] == 'No Info'].shape[0] / data.shape[0] *100)"
   ]
  },
  {
   "cell_type": "markdown",
   "id": "3cdb6412",
   "metadata": {},
   "source": [
    "Данный признак содержит около 1/3 неинформатиных данных, а другие не полностью логически связанные между собой категории.  \n",
    "Удалим этот признак:"
   ]
  },
  {
   "cell_type": "code",
   "execution_count": 13,
   "id": "ff0411ee",
   "metadata": {},
   "outputs": [],
   "source": [
    "data = data.drop(columns = ['smoking_history'])"
   ]
  },
  {
   "cell_type": "markdown",
   "id": "777028a5",
   "metadata": {},
   "source": [
    "## 2. Визуализировать данные и вычислить основные характеристики (среднее, разброс, корреляционную матрицу и т.д.). Интерпретировать <a id='datachar'></a>(<a href='#menu'>в общее меню</a>)"
   ]
  },
  {
   "cell_type": "markdown",
   "id": "a205b1d6",
   "metadata": {},
   "source": [
    "Выведем все диаграммы рассеивания для количественных признаков."
   ]
  },
  {
   "cell_type": "code",
   "execution_count": 14,
   "id": "c8691d91",
   "metadata": {},
   "outputs": [
    {
     "data": {
      "image/png": "[encoded data removed]",
      "text/plain": [
       "<Figure size 720x720 with 49 Axes>"
      ]
     },
     "metadata": {
      "needs_background": "light"
     },
     "output_type": "display_data"
    }
   ],
   "source": [
    "pd.plotting.scatter_matrix(data, figsize = (10, 10), alpha = 0.05)\n",
    "pass"
   ]
  },
  {
   "cell_type": "markdown",
   "id": "f37e15fe",
   "metadata": {},
   "source": [
    "Визуально видно, что все значения признаков правдоподобны, (экстремально высокие значения ИМТ и уровня глюкозы в крови имеют место быть)"
   ]
  },
  {
   "cell_type": "markdown",
   "id": "fa2749c8",
   "metadata": {},
   "source": [
    "Посчитаем основные статистические характеристики данных по каждому числовому признаку:"
   ]
  },
  {
   "cell_type": "code",
   "execution_count": 15,
   "id": "383c9017",
   "metadata": {},
   "outputs": [
    {
     "data": {
      "text/html": [
       "<div>\n",
       "<style scoped>\n",
       "    .dataframe tbody tr th:only-of-type {\n",
       "        vertical-align: middle;\n",
       "    }\n",
       "\n",
       "    .dataframe tbody tr th {\n",
       "        vertical-align: top;\n",
       "    }\n",
       "\n",
       "    .dataframe thead th {\n",
       "        text-align: right;\n",
       "    }\n",
       "</style>\n",
       "<table border=\"1\" class=\"dataframe\">\n",
       "  <thead>\n",
       "    <tr style=\"text-align: right;\">\n",
       "      <th></th>\n",
       "      <th>age</th>\n",
       "      <th>hypertension</th>\n",
       "      <th>heart_disease</th>\n",
       "      <th>bmi</th>\n",
       "      <th>HbA1c_level</th>\n",
       "      <th>blood_glucose_level</th>\n",
       "      <th>diabetes</th>\n",
       "    </tr>\n",
       "  </thead>\n",
       "  <tbody>\n",
       "    <tr>\n",
       "      <th>count</th>\n",
       "      <td>96128.000000</td>\n",
       "      <td>96128.000000</td>\n",
       "      <td>96128.000000</td>\n",
       "      <td>96128.000000</td>\n",
       "      <td>96128.000000</td>\n",
       "      <td>96128.000000</td>\n",
       "      <td>96128.000000</td>\n",
       "    </tr>\n",
       "    <tr>\n",
       "      <th>mean</th>\n",
       "      <td>41.796617</td>\n",
       "      <td>0.077615</td>\n",
       "      <td>0.040810</td>\n",
       "      <td>27.321450</td>\n",
       "      <td>5.532633</td>\n",
       "      <td>138.218001</td>\n",
       "      <td>0.088237</td>\n",
       "    </tr>\n",
       "    <tr>\n",
       "      <th>std</th>\n",
       "      <td>22.463329</td>\n",
       "      <td>0.267567</td>\n",
       "      <td>0.197851</td>\n",
       "      <td>6.767811</td>\n",
       "      <td>1.073225</td>\n",
       "      <td>40.911190</td>\n",
       "      <td>0.283640</td>\n",
       "    </tr>\n",
       "    <tr>\n",
       "      <th>min</th>\n",
       "      <td>0.080000</td>\n",
       "      <td>0.000000</td>\n",
       "      <td>0.000000</td>\n",
       "      <td>10.010000</td>\n",
       "      <td>3.500000</td>\n",
       "      <td>80.000000</td>\n",
       "      <td>0.000000</td>\n",
       "    </tr>\n",
       "    <tr>\n",
       "      <th>25%</th>\n",
       "      <td>24.000000</td>\n",
       "      <td>0.000000</td>\n",
       "      <td>0.000000</td>\n",
       "      <td>23.400000</td>\n",
       "      <td>4.800000</td>\n",
       "      <td>100.000000</td>\n",
       "      <td>0.000000</td>\n",
       "    </tr>\n",
       "    <tr>\n",
       "      <th>50%</th>\n",
       "      <td>43.000000</td>\n",
       "      <td>0.000000</td>\n",
       "      <td>0.000000</td>\n",
       "      <td>27.320000</td>\n",
       "      <td>5.800000</td>\n",
       "      <td>140.000000</td>\n",
       "      <td>0.000000</td>\n",
       "    </tr>\n",
       "    <tr>\n",
       "      <th>75%</th>\n",
       "      <td>59.000000</td>\n",
       "      <td>0.000000</td>\n",
       "      <td>0.000000</td>\n",
       "      <td>29.860000</td>\n",
       "      <td>6.200000</td>\n",
       "      <td>159.000000</td>\n",
       "      <td>0.000000</td>\n",
       "    </tr>\n",
       "    <tr>\n",
       "      <th>max</th>\n",
       "      <td>80.000000</td>\n",
       "      <td>1.000000</td>\n",
       "      <td>1.000000</td>\n",
       "      <td>95.690000</td>\n",
       "      <td>9.000000</td>\n",
       "      <td>300.000000</td>\n",
       "      <td>1.000000</td>\n",
       "    </tr>\n",
       "  </tbody>\n",
       "</table>\n",
       "</div>"
      ],
      "text/plain": [
       "                age  hypertension  heart_disease           bmi   HbA1c_level  \\\n",
       "count  96128.000000  96128.000000   96128.000000  96128.000000  96128.000000   \n",
       "mean      41.796617      0.077615       0.040810     27.321450      5.532633   \n",
       "std       22.463329      0.267567       0.197851      6.767811      1.073225   \n",
       "min        0.080000      0.000000       0.000000     10.010000      3.500000   \n",
       "25%       24.000000      0.000000       0.000000     23.400000      4.800000   \n",
       "50%       43.000000      0.000000       0.000000     27.320000      5.800000   \n",
       "75%       59.000000      0.000000       0.000000     29.860000      6.200000   \n",
       "max       80.000000      1.000000       1.000000     95.690000      9.000000   \n",
       "\n",
       "       blood_glucose_level      diabetes  \n",
       "count         96128.000000  96128.000000  \n",
       "mean            138.218001      0.088237  \n",
       "std              40.911190      0.283640  \n",
       "min              80.000000      0.000000  \n",
       "25%             100.000000      0.000000  \n",
       "50%             140.000000      0.000000  \n",
       "75%             159.000000      0.000000  \n",
       "max             300.000000      1.000000  "
      ]
     },
     "execution_count": 15,
     "metadata": {},
     "output_type": "execute_result"
    }
   ],
   "source": [
    "data.describe()"
   ]
  },
  {
   "cell_type": "markdown",
   "id": "595b8987",
   "metadata": {},
   "source": [
    "+ mean - среднее значение\n",
    "+ std - стандартное отклонение\n",
    "+ min - минимум\n",
    "+ 25% - нижнее значение первого квантиля\n",
    "+ 50% - медиана\n",
    "+ 75% - верхнее значение первого квантиля\n",
    "+ max - максимум"
   ]
  },
  {
   "cell_type": "markdown",
   "id": "73fa1784",
   "metadata": {},
   "source": [
    "#### Обработка выбросов"
   ]
  },
  {
   "cell_type": "code",
   "execution_count": 16,
   "id": "6c509b73",
   "metadata": {},
   "outputs": [
    {
     "data": {
      "image/png": "[encoded data removed]",
      "text/plain": [
       "<Figure size 432x288 with 1 Axes>"
      ]
     },
     "metadata": {
      "needs_background": "light"
     },
     "output_type": "display_data"
    }
   ],
   "source": [
    "data['age'].plot(kind='box')\n",
    "pass"
   ]
  },
  {
   "cell_type": "code",
   "execution_count": 17,
   "id": "2f249854",
   "metadata": {},
   "outputs": [
    {
     "data": {
      "image/png": "[encoded data removed]",
      "text/plain": [
       "<Figure size 432x288 with 1 Axes>"
      ]
     },
     "metadata": {
      "needs_background": "light"
     },
     "output_type": "display_data"
    }
   ],
   "source": [
    "data['bmi'].plot(kind='box')\n",
    "pass"
   ]
  },
  {
   "cell_type": "markdown",
   "id": "2ad5dfc2",
   "metadata": {},
   "source": [
    "Посмотрим, на признак ИМТ и выведем пациентов, у которых он выше 60:"
   ]
  },
  {
   "cell_type": "code",
   "execution_count": 18,
   "id": "4afa604b",
   "metadata": {},
   "outputs": [
    {
     "data": {
      "text/html": [
       "<div>\n",
       "<style scoped>\n",
       "    .dataframe tbody tr th:only-of-type {\n",
       "        vertical-align: middle;\n",
       "    }\n",
       "\n",
       "    .dataframe tbody tr th {\n",
       "        vertical-align: top;\n",
       "    }\n",
       "\n",
       "    .dataframe thead th {\n",
       "        text-align: right;\n",
       "    }\n",
       "</style>\n",
       "<table border=\"1\" class=\"dataframe\">\n",
       "  <thead>\n",
       "    <tr style=\"text-align: right;\">\n",
       "      <th></th>\n",
       "      <th>gender</th>\n",
       "      <th>age</th>\n",
       "      <th>hypertension</th>\n",
       "      <th>heart_disease</th>\n",
       "      <th>bmi</th>\n",
       "      <th>HbA1c_level</th>\n",
       "      <th>blood_glucose_level</th>\n",
       "      <th>diabetes</th>\n",
       "    </tr>\n",
       "  </thead>\n",
       "  <tbody>\n",
       "    <tr>\n",
       "      <th>59</th>\n",
       "      <td>Female</td>\n",
       "      <td>67.0</td>\n",
       "      <td>0</td>\n",
       "      <td>0</td>\n",
       "      <td>63.48</td>\n",
       "      <td>8.8</td>\n",
       "      <td>155</td>\n",
       "      <td>1</td>\n",
       "    </tr>\n",
       "    <tr>\n",
       "      <th>562</th>\n",
       "      <td>Male</td>\n",
       "      <td>43.0</td>\n",
       "      <td>0</td>\n",
       "      <td>0</td>\n",
       "      <td>69.37</td>\n",
       "      <td>7.5</td>\n",
       "      <td>130</td>\n",
       "      <td>1</td>\n",
       "    </tr>\n",
       "    <tr>\n",
       "      <th>618</th>\n",
       "      <td>Female</td>\n",
       "      <td>59.0</td>\n",
       "      <td>0</td>\n",
       "      <td>1</td>\n",
       "      <td>60.26</td>\n",
       "      <td>8.8</td>\n",
       "      <td>145</td>\n",
       "      <td>1</td>\n",
       "    </tr>\n",
       "    <tr>\n",
       "      <th>1395</th>\n",
       "      <td>Female</td>\n",
       "      <td>60.0</td>\n",
       "      <td>1</td>\n",
       "      <td>0</td>\n",
       "      <td>60.20</td>\n",
       "      <td>7.0</td>\n",
       "      <td>200</td>\n",
       "      <td>1</td>\n",
       "    </tr>\n",
       "    <tr>\n",
       "      <th>2072</th>\n",
       "      <td>Male</td>\n",
       "      <td>18.0</td>\n",
       "      <td>0</td>\n",
       "      <td>0</td>\n",
       "      <td>65.93</td>\n",
       "      <td>6.0</td>\n",
       "      <td>200</td>\n",
       "      <td>0</td>\n",
       "    </tr>\n",
       "    <tr>\n",
       "      <th>...</th>\n",
       "      <td>...</td>\n",
       "      <td>...</td>\n",
       "      <td>...</td>\n",
       "      <td>...</td>\n",
       "      <td>...</td>\n",
       "      <td>...</td>\n",
       "      <td>...</td>\n",
       "      <td>...</td>\n",
       "    </tr>\n",
       "    <tr>\n",
       "      <th>96066</th>\n",
       "      <td>Male</td>\n",
       "      <td>80.0</td>\n",
       "      <td>0</td>\n",
       "      <td>0</td>\n",
       "      <td>88.76</td>\n",
       "      <td>6.2</td>\n",
       "      <td>140</td>\n",
       "      <td>0</td>\n",
       "    </tr>\n",
       "    <tr>\n",
       "      <th>96673</th>\n",
       "      <td>Female</td>\n",
       "      <td>38.0</td>\n",
       "      <td>0</td>\n",
       "      <td>0</td>\n",
       "      <td>64.26</td>\n",
       "      <td>6.2</td>\n",
       "      <td>100</td>\n",
       "      <td>0</td>\n",
       "    </tr>\n",
       "    <tr>\n",
       "      <th>96771</th>\n",
       "      <td>Female</td>\n",
       "      <td>25.0</td>\n",
       "      <td>0</td>\n",
       "      <td>0</td>\n",
       "      <td>64.27</td>\n",
       "      <td>4.5</td>\n",
       "      <td>126</td>\n",
       "      <td>0</td>\n",
       "    </tr>\n",
       "    <tr>\n",
       "      <th>97217</th>\n",
       "      <td>Female</td>\n",
       "      <td>71.0</td>\n",
       "      <td>0</td>\n",
       "      <td>0</td>\n",
       "      <td>64.80</td>\n",
       "      <td>9.0</td>\n",
       "      <td>280</td>\n",
       "      <td>1</td>\n",
       "    </tr>\n",
       "    <tr>\n",
       "      <th>99953</th>\n",
       "      <td>Female</td>\n",
       "      <td>59.0</td>\n",
       "      <td>1</td>\n",
       "      <td>0</td>\n",
       "      <td>60.52</td>\n",
       "      <td>3.5</td>\n",
       "      <td>158</td>\n",
       "      <td>0</td>\n",
       "    </tr>\n",
       "  </tbody>\n",
       "</table>\n",
       "<p>116 rows × 8 columns</p>\n",
       "</div>"
      ],
      "text/plain": [
       "       gender   age  hypertension  heart_disease    bmi  HbA1c_level  \\\n",
       "59     Female  67.0             0              0  63.48          8.8   \n",
       "562      Male  43.0             0              0  69.37          7.5   \n",
       "618    Female  59.0             0              1  60.26          8.8   \n",
       "1395   Female  60.0             1              0  60.20          7.0   \n",
       "2072     Male  18.0             0              0  65.93          6.0   \n",
       "...       ...   ...           ...            ...    ...          ...   \n",
       "96066    Male  80.0             0              0  88.76          6.2   \n",
       "96673  Female  38.0             0              0  64.26          6.2   \n",
       "96771  Female  25.0             0              0  64.27          4.5   \n",
       "97217  Female  71.0             0              0  64.80          9.0   \n",
       "99953  Female  59.0             1              0  60.52          3.5   \n",
       "\n",
       "       blood_glucose_level  diabetes  \n",
       "59                     155         1  \n",
       "562                    130         1  \n",
       "618                    145         1  \n",
       "1395                   200         1  \n",
       "2072                   200         0  \n",
       "...                    ...       ...  \n",
       "96066                  140         0  \n",
       "96673                  100         0  \n",
       "96771                  126         0  \n",
       "97217                  280         1  \n",
       "99953                  158         0  \n",
       "\n",
       "[116 rows x 8 columns]"
      ]
     },
     "execution_count": 18,
     "metadata": {},
     "output_type": "execute_result"
    }
   ],
   "source": [
    "data[data['bmi'] >= 60]"
   ]
  },
  {
   "cell_type": "markdown",
   "id": "82e95539",
   "metadata": {},
   "source": [
    "Таких значений явно немного (относительно общего количества), значит это выбросы - удалим эти строки"
   ]
  },
  {
   "cell_type": "code",
   "execution_count": 19,
   "id": "63f75758",
   "metadata": {},
   "outputs": [
    {
     "data": {
      "text/plain": [
       "(96013, 8)"
      ]
     },
     "execution_count": 19,
     "metadata": {},
     "output_type": "execute_result"
    }
   ],
   "source": [
    "data = data[data['bmi'] <= 60]\n",
    "data.shape"
   ]
  },
  {
   "cell_type": "code",
   "execution_count": 20,
   "id": "75ffa7c7",
   "metadata": {},
   "outputs": [
    {
     "data": {
      "image/png": "[encoded data removed]",
      "text/plain": [
       "<Figure size 432x288 with 1 Axes>"
      ]
     },
     "metadata": {
      "needs_background": "light"
     },
     "output_type": "display_data"
    }
   ],
   "source": [
    "data['blood_glucose_level'].plot(kind='box')\n",
    "pass"
   ]
  },
  {
   "cell_type": "markdown",
   "id": "9431ab12",
   "metadata": {},
   "source": [
    "Теперь посмотрим на признак уровня глюкозы в крови и выведем пациентов, у которых он выше 250:"
   ]
  },
  {
   "cell_type": "code",
   "execution_count": 21,
   "id": "75c899ee",
   "metadata": {},
   "outputs": [
    {
     "data": {
      "text/html": [
       "<div>\n",
       "<style scoped>\n",
       "    .dataframe tbody tr th:only-of-type {\n",
       "        vertical-align: middle;\n",
       "    }\n",
       "\n",
       "    .dataframe tbody tr th {\n",
       "        vertical-align: top;\n",
       "    }\n",
       "\n",
       "    .dataframe thead th {\n",
       "        text-align: right;\n",
       "    }\n",
       "</style>\n",
       "<table border=\"1\" class=\"dataframe\">\n",
       "  <thead>\n",
       "    <tr style=\"text-align: right;\">\n",
       "      <th></th>\n",
       "      <th>gender</th>\n",
       "      <th>age</th>\n",
       "      <th>hypertension</th>\n",
       "      <th>heart_disease</th>\n",
       "      <th>bmi</th>\n",
       "      <th>HbA1c_level</th>\n",
       "      <th>blood_glucose_level</th>\n",
       "      <th>diabetes</th>\n",
       "    </tr>\n",
       "  </thead>\n",
       "  <tbody>\n",
       "    <tr>\n",
       "      <th>38</th>\n",
       "      <td>Male</td>\n",
       "      <td>50.0</td>\n",
       "      <td>1</td>\n",
       "      <td>0</td>\n",
       "      <td>27.32</td>\n",
       "      <td>5.7</td>\n",
       "      <td>260</td>\n",
       "      <td>1</td>\n",
       "    </tr>\n",
       "    <tr>\n",
       "      <th>94</th>\n",
       "      <td>Female</td>\n",
       "      <td>60.0</td>\n",
       "      <td>0</td>\n",
       "      <td>0</td>\n",
       "      <td>27.32</td>\n",
       "      <td>7.5</td>\n",
       "      <td>300</td>\n",
       "      <td>1</td>\n",
       "    </tr>\n",
       "    <tr>\n",
       "      <th>104</th>\n",
       "      <td>Female</td>\n",
       "      <td>80.0</td>\n",
       "      <td>1</td>\n",
       "      <td>0</td>\n",
       "      <td>27.32</td>\n",
       "      <td>6.8</td>\n",
       "      <td>280</td>\n",
       "      <td>1</td>\n",
       "    </tr>\n",
       "    <tr>\n",
       "      <th>125</th>\n",
       "      <td>Female</td>\n",
       "      <td>77.0</td>\n",
       "      <td>0</td>\n",
       "      <td>0</td>\n",
       "      <td>31.70</td>\n",
       "      <td>6.5</td>\n",
       "      <td>280</td>\n",
       "      <td>1</td>\n",
       "    </tr>\n",
       "    <tr>\n",
       "      <th>142</th>\n",
       "      <td>Female</td>\n",
       "      <td>80.0</td>\n",
       "      <td>0</td>\n",
       "      <td>0</td>\n",
       "      <td>21.97</td>\n",
       "      <td>7.0</td>\n",
       "      <td>300</td>\n",
       "      <td>1</td>\n",
       "    </tr>\n",
       "    <tr>\n",
       "      <th>...</th>\n",
       "      <td>...</td>\n",
       "      <td>...</td>\n",
       "      <td>...</td>\n",
       "      <td>...</td>\n",
       "      <td>...</td>\n",
       "      <td>...</td>\n",
       "      <td>...</td>\n",
       "      <td>...</td>\n",
       "    </tr>\n",
       "    <tr>\n",
       "      <th>99763</th>\n",
       "      <td>Female</td>\n",
       "      <td>50.0</td>\n",
       "      <td>0</td>\n",
       "      <td>0</td>\n",
       "      <td>35.91</td>\n",
       "      <td>6.0</td>\n",
       "      <td>280</td>\n",
       "      <td>1</td>\n",
       "    </tr>\n",
       "    <tr>\n",
       "      <th>99826</th>\n",
       "      <td>Male</td>\n",
       "      <td>63.0</td>\n",
       "      <td>0</td>\n",
       "      <td>1</td>\n",
       "      <td>27.32</td>\n",
       "      <td>6.6</td>\n",
       "      <td>300</td>\n",
       "      <td>1</td>\n",
       "    </tr>\n",
       "    <tr>\n",
       "      <th>99867</th>\n",
       "      <td>Male</td>\n",
       "      <td>64.0</td>\n",
       "      <td>1</td>\n",
       "      <td>0</td>\n",
       "      <td>33.12</td>\n",
       "      <td>5.7</td>\n",
       "      <td>300</td>\n",
       "      <td>1</td>\n",
       "    </tr>\n",
       "    <tr>\n",
       "      <th>99938</th>\n",
       "      <td>Male</td>\n",
       "      <td>55.0</td>\n",
       "      <td>0</td>\n",
       "      <td>1</td>\n",
       "      <td>30.42</td>\n",
       "      <td>6.2</td>\n",
       "      <td>300</td>\n",
       "      <td>1</td>\n",
       "    </tr>\n",
       "    <tr>\n",
       "      <th>99957</th>\n",
       "      <td>Female</td>\n",
       "      <td>61.0</td>\n",
       "      <td>0</td>\n",
       "      <td>0</td>\n",
       "      <td>34.45</td>\n",
       "      <td>6.5</td>\n",
       "      <td>280</td>\n",
       "      <td>1</td>\n",
       "    </tr>\n",
       "  </tbody>\n",
       "</table>\n",
       "<p>2022 rows × 8 columns</p>\n",
       "</div>"
      ],
      "text/plain": [
       "       gender   age  hypertension  heart_disease    bmi  HbA1c_level  \\\n",
       "38       Male  50.0             1              0  27.32          5.7   \n",
       "94     Female  60.0             0              0  27.32          7.5   \n",
       "104    Female  80.0             1              0  27.32          6.8   \n",
       "125    Female  77.0             0              0  31.70          6.5   \n",
       "142    Female  80.0             0              0  21.97          7.0   \n",
       "...       ...   ...           ...            ...    ...          ...   \n",
       "99763  Female  50.0             0              0  35.91          6.0   \n",
       "99826    Male  63.0             0              1  27.32          6.6   \n",
       "99867    Male  64.0             1              0  33.12          5.7   \n",
       "99938    Male  55.0             0              1  30.42          6.2   \n",
       "99957  Female  61.0             0              0  34.45          6.5   \n",
       "\n",
       "       blood_glucose_level  diabetes  \n",
       "38                     260         1  \n",
       "94                     300         1  \n",
       "104                    280         1  \n",
       "125                    280         1  \n",
       "142                    300         1  \n",
       "...                    ...       ...  \n",
       "99763                  280         1  \n",
       "99826                  300         1  \n",
       "99867                  300         1  \n",
       "99938                  300         1  \n",
       "99957                  280         1  \n",
       "\n",
       "[2022 rows x 8 columns]"
      ]
     },
     "execution_count": 21,
     "metadata": {},
     "output_type": "execute_result"
    }
   ],
   "source": [
    "data[data['blood_glucose_level'] >= 250]"
   ]
  },
  {
   "cell_type": "markdown",
   "id": "ab062f9b",
   "metadata": {},
   "source": [
    "У всех пациентов есть диабет, возраст преимущественно старше 50 лет. Не будем считать данные значения выбросами."
   ]
  },
  {
   "cell_type": "markdown",
   "id": "35a5c78c",
   "metadata": {},
   "source": [
    "Можно вычислить матрицу корреляции для количественных признаков:"
   ]
  },
  {
   "cell_type": "code",
   "execution_count": 22,
   "id": "fc557eca",
   "metadata": {},
   "outputs": [
    {
     "data": {
      "text/html": [
       "<div>\n",
       "<style scoped>\n",
       "    .dataframe tbody tr th:only-of-type {\n",
       "        vertical-align: middle;\n",
       "    }\n",
       "\n",
       "    .dataframe tbody tr th {\n",
       "        vertical-align: top;\n",
       "    }\n",
       "\n",
       "    .dataframe thead th {\n",
       "        text-align: right;\n",
       "    }\n",
       "</style>\n",
       "<table border=\"1\" class=\"dataframe\">\n",
       "  <thead>\n",
       "    <tr style=\"text-align: right;\">\n",
       "      <th></th>\n",
       "      <th>age</th>\n",
       "      <th>hypertension</th>\n",
       "      <th>heart_disease</th>\n",
       "      <th>bmi</th>\n",
       "      <th>HbA1c_level</th>\n",
       "      <th>blood_glucose_level</th>\n",
       "      <th>diabetes</th>\n",
       "    </tr>\n",
       "  </thead>\n",
       "  <tbody>\n",
       "    <tr>\n",
       "      <th>age</th>\n",
       "      <td>1.000000</td>\n",
       "      <td>0.257393</td>\n",
       "      <td>0.238527</td>\n",
       "      <td>0.351708</td>\n",
       "      <td>0.106437</td>\n",
       "      <td>0.114205</td>\n",
       "      <td>0.264923</td>\n",
       "    </tr>\n",
       "    <tr>\n",
       "      <th>hypertension</th>\n",
       "      <td>0.257393</td>\n",
       "      <td>1.000000</td>\n",
       "      <td>0.120049</td>\n",
       "      <td>0.149077</td>\n",
       "      <td>0.081188</td>\n",
       "      <td>0.084549</td>\n",
       "      <td>0.195523</td>\n",
       "    </tr>\n",
       "    <tr>\n",
       "      <th>heart_disease</th>\n",
       "      <td>0.238527</td>\n",
       "      <td>0.120049</td>\n",
       "      <td>1.000000</td>\n",
       "      <td>0.062216</td>\n",
       "      <td>0.067819</td>\n",
       "      <td>0.070754</td>\n",
       "      <td>0.170774</td>\n",
       "    </tr>\n",
       "    <tr>\n",
       "      <th>bmi</th>\n",
       "      <td>0.351708</td>\n",
       "      <td>0.149077</td>\n",
       "      <td>0.062216</td>\n",
       "      <td>1.000000</td>\n",
       "      <td>0.083280</td>\n",
       "      <td>0.091813</td>\n",
       "      <td>0.214218</td>\n",
       "    </tr>\n",
       "    <tr>\n",
       "      <th>HbA1c_level</th>\n",
       "      <td>0.106437</td>\n",
       "      <td>0.081188</td>\n",
       "      <td>0.067819</td>\n",
       "      <td>0.083280</td>\n",
       "      <td>1.000000</td>\n",
       "      <td>0.171101</td>\n",
       "      <td>0.405739</td>\n",
       "    </tr>\n",
       "    <tr>\n",
       "      <th>blood_glucose_level</th>\n",
       "      <td>0.114205</td>\n",
       "      <td>0.084549</td>\n",
       "      <td>0.070754</td>\n",
       "      <td>0.091813</td>\n",
       "      <td>0.171101</td>\n",
       "      <td>1.000000</td>\n",
       "      <td>0.423810</td>\n",
       "    </tr>\n",
       "    <tr>\n",
       "      <th>diabetes</th>\n",
       "      <td>0.264923</td>\n",
       "      <td>0.195523</td>\n",
       "      <td>0.170774</td>\n",
       "      <td>0.214218</td>\n",
       "      <td>0.405739</td>\n",
       "      <td>0.423810</td>\n",
       "      <td>1.000000</td>\n",
       "    </tr>\n",
       "  </tbody>\n",
       "</table>\n",
       "</div>"
      ],
      "text/plain": [
       "                          age  hypertension  heart_disease       bmi  \\\n",
       "age                  1.000000      0.257393       0.238527  0.351708   \n",
       "hypertension         0.257393      1.000000       0.120049  0.149077   \n",
       "heart_disease        0.238527      0.120049       1.000000  0.062216   \n",
       "bmi                  0.351708      0.149077       0.062216  1.000000   \n",
       "HbA1c_level          0.106437      0.081188       0.067819  0.083280   \n",
       "blood_glucose_level  0.114205      0.084549       0.070754  0.091813   \n",
       "diabetes             0.264923      0.195523       0.170774  0.214218   \n",
       "\n",
       "                     HbA1c_level  blood_glucose_level  diabetes  \n",
       "age                     0.106437             0.114205  0.264923  \n",
       "hypertension            0.081188             0.084549  0.195523  \n",
       "heart_disease           0.067819             0.070754  0.170774  \n",
       "bmi                     0.083280             0.091813  0.214218  \n",
       "HbA1c_level             1.000000             0.171101  0.405739  \n",
       "blood_glucose_level     0.171101             1.000000  0.423810  \n",
       "diabetes                0.405739             0.423810  1.000000  "
      ]
     },
     "execution_count": 22,
     "metadata": {},
     "output_type": "execute_result"
    }
   ],
   "source": [
    "corr_mat = data.corr()\n",
    "corr_mat"
   ]
  },
  {
   "cell_type": "code",
   "execution_count": 23,
   "id": "2cb1a6cb",
   "metadata": {},
   "outputs": [
    {
     "data": {
      "image/png": "[encoded data removed]",
      "text/plain": [
       "<Figure size 1080x1080 with 2 Axes>"
      ]
     },
     "metadata": {
      "needs_background": "light"
     },
     "output_type": "display_data"
    }
   ],
   "source": [
    "plt.figure(figsize=(15,15))\n",
    "sns.heatmap(corr_mat, square=True, annot=True, fmt='.2f', vmin=-1, vmax=1, cmap='coolwarm')\n",
    "pass"
   ]
  },
  {
   "cell_type": "markdown",
   "id": "5a20a93d",
   "metadata": {},
   "source": [
    "Вывод: есть корреляция между `'age'` и `'bmi'`, `'blood_glucose_level'` и `'diabetes'`, `'HbA1c_level'` и `'diabetes'`"
   ]
  },
  {
   "cell_type": "markdown",
   "id": "babdaaef",
   "metadata": {},
   "source": [
    "Доля пациентов с диабетом"
   ]
  },
  {
   "cell_type": "code",
   "execution_count": 24,
   "id": "5c9982e7",
   "metadata": {},
   "outputs": [
    {
     "data": {
      "image/png": "[encoded data removed]",
      "text/plain": [
       "<Figure size 720x720 with 1 Axes>"
      ]
     },
     "metadata": {},
     "output_type": "display_data"
    }
   ],
   "source": [
    "data.diabetes.value_counts().plot(kind = 'pie', figsize=(10,10), autopct = '%1.2f%%',explode = [0, 0.1])\n",
    "plt.title('Diabetes')\n",
    "plt.show()"
   ]
  },
  {
   "cell_type": "markdown",
   "id": "c37b1b16",
   "metadata": {},
   "source": [
    "Доля пациентов с диабетом 8,8% (классы не сбалансированы)"
   ]
  },
  {
   "cell_type": "markdown",
   "id": "00136a7c",
   "metadata": {},
   "source": [
    "## 3. Обработать пропущенные значения <a id='datanun'></a>(<a href='#menu'>в общее меню</a>)"
   ]
  },
  {
   "cell_type": "code",
   "execution_count": 25,
   "id": "d41b9f29",
   "metadata": {},
   "outputs": [
    {
     "name": "stdout",
     "output_type": "stream",
     "text": [
      "Пропущенные значения в каждом столбце:\n",
      "gender                 0\n",
      "age                    0\n",
      "hypertension           0\n",
      "heart_disease          0\n",
      "bmi                    0\n",
      "HbA1c_level            0\n",
      "blood_glucose_level    0\n",
      "diabetes               0\n",
      "dtype: int64\n",
      "\n",
      "Общее количество пропуcков: 0\n"
     ]
    }
   ],
   "source": [
    "missing_values = data.isnull().sum()\n",
    "print(\"Пропущенные значения в каждом столбце:\")\n",
    "print(missing_values)\n",
    "\n",
    "all_missing = missing_values.sum()\n",
    "print(f\"\\nОбщее количество пропуcков: {all_missing}\")"
   ]
  },
  {
   "cell_type": "markdown",
   "id": "84c4d4a0",
   "metadata": {},
   "source": [
    "## 4. Обработать категориальные признаки <a id='datacateg'></a>(<a href='#menu'>в общее меню</a>)"
   ]
  },
  {
   "cell_type": "code",
   "execution_count": 26,
   "id": "7e30b1f8",
   "metadata": {},
   "outputs": [],
   "source": [
    "data_encoded = data.copy()"
   ]
  },
  {
   "cell_type": "code",
   "execution_count": 27,
   "id": "5948f85c",
   "metadata": {},
   "outputs": [],
   "source": [
    "labelencoder = LabelEncoder()\n",
    " \n",
    "data_encoded['gender'] = labelencoder.fit_transform(data_encoded['gender'])"
   ]
  },
  {
   "cell_type": "code",
   "execution_count": 28,
   "id": "29df88aa",
   "metadata": {},
   "outputs": [
    {
     "name": "stdout",
     "output_type": "stream",
     "text": [
      "<class 'pandas.core.frame.DataFrame'>\n",
      "Int64Index: 96013 entries, 0 to 99999\n",
      "Data columns (total 8 columns):\n",
      " #   Column               Non-Null Count  Dtype  \n",
      "---  ------               --------------  -----  \n",
      " 0   gender               96013 non-null  int32  \n",
      " 1   age                  96013 non-null  float64\n",
      " 2   hypertension         96013 non-null  int64  \n",
      " 3   heart_disease        96013 non-null  int64  \n",
      " 4   bmi                  96013 non-null  float64\n",
      " 5   HbA1c_level          96013 non-null  float64\n",
      " 6   blood_glucose_level  96013 non-null  int64  \n",
      " 7   diabetes             96013 non-null  int64  \n",
      "dtypes: float64(3), int32(1), int64(4)\n",
      "memory usage: 6.2 MB\n"
     ]
    }
   ],
   "source": [
    "data_encoded.info()"
   ]
  },
  {
   "cell_type": "markdown",
   "id": "7a827ccb",
   "metadata": {},
   "source": [
    "## 5. Провести нормализацию <a id='norm'></a>(<a href='#menu'>в общее меню</a>)"
   ]
  },
  {
   "cell_type": "code",
   "execution_count": 29,
   "id": "42177695",
   "metadata": {},
   "outputs": [
    {
     "data": {
      "text/html": [
       "<div>\n",
       "<style scoped>\n",
       "    .dataframe tbody tr th:only-of-type {\n",
       "        vertical-align: middle;\n",
       "    }\n",
       "\n",
       "    .dataframe tbody tr th {\n",
       "        vertical-align: top;\n",
       "    }\n",
       "\n",
       "    .dataframe thead th {\n",
       "        text-align: right;\n",
       "    }\n",
       "</style>\n",
       "<table border=\"1\" class=\"dataframe\">\n",
       "  <thead>\n",
       "    <tr style=\"text-align: right;\">\n",
       "      <th></th>\n",
       "      <th>gender</th>\n",
       "      <th>age</th>\n",
       "      <th>hypertension</th>\n",
       "      <th>heart_disease</th>\n",
       "      <th>bmi</th>\n",
       "      <th>HbA1c_level</th>\n",
       "      <th>blood_glucose_level</th>\n",
       "      <th>diabetes</th>\n",
       "    </tr>\n",
       "  </thead>\n",
       "  <tbody>\n",
       "    <tr>\n",
       "      <th>0</th>\n",
       "      <td>0</td>\n",
       "      <td>1.057143</td>\n",
       "      <td>0</td>\n",
       "      <td>1</td>\n",
       "      <td>-0.331260</td>\n",
       "      <td>0.571429</td>\n",
       "      <td>0.000000</td>\n",
       "      <td>0</td>\n",
       "    </tr>\n",
       "    <tr>\n",
       "      <th>1</th>\n",
       "      <td>0</td>\n",
       "      <td>0.314286</td>\n",
       "      <td>0</td>\n",
       "      <td>0</td>\n",
       "      <td>0.000000</td>\n",
       "      <td>0.571429</td>\n",
       "      <td>-1.016949</td>\n",
       "      <td>0</td>\n",
       "    </tr>\n",
       "    <tr>\n",
       "      <th>2</th>\n",
       "      <td>1</td>\n",
       "      <td>-0.428571</td>\n",
       "      <td>0</td>\n",
       "      <td>0</td>\n",
       "      <td>0.000000</td>\n",
       "      <td>-0.071429</td>\n",
       "      <td>0.305085</td>\n",
       "      <td>0</td>\n",
       "    </tr>\n",
       "    <tr>\n",
       "      <th>3</th>\n",
       "      <td>0</td>\n",
       "      <td>-0.200000</td>\n",
       "      <td>0</td>\n",
       "      <td>0</td>\n",
       "      <td>-0.601866</td>\n",
       "      <td>-0.571429</td>\n",
       "      <td>0.254237</td>\n",
       "      <td>0</td>\n",
       "    </tr>\n",
       "    <tr>\n",
       "      <th>4</th>\n",
       "      <td>1</td>\n",
       "      <td>0.942857</td>\n",
       "      <td>1</td>\n",
       "      <td>1</td>\n",
       "      <td>-1.116641</td>\n",
       "      <td>-0.714286</td>\n",
       "      <td>0.254237</td>\n",
       "      <td>0</td>\n",
       "    </tr>\n",
       "    <tr>\n",
       "      <th>...</th>\n",
       "      <td>...</td>\n",
       "      <td>...</td>\n",
       "      <td>...</td>\n",
       "      <td>...</td>\n",
       "      <td>...</td>\n",
       "      <td>...</td>\n",
       "      <td>...</td>\n",
       "      <td>...</td>\n",
       "    </tr>\n",
       "    <tr>\n",
       "      <th>99994</th>\n",
       "      <td>0</td>\n",
       "      <td>-0.200000</td>\n",
       "      <td>0</td>\n",
       "      <td>0</td>\n",
       "      <td>-0.423017</td>\n",
       "      <td>-0.714286</td>\n",
       "      <td>0.084746</td>\n",
       "      <td>0</td>\n",
       "    </tr>\n",
       "    <tr>\n",
       "      <th>99996</th>\n",
       "      <td>0</td>\n",
       "      <td>-1.171429</td>\n",
       "      <td>0</td>\n",
       "      <td>0</td>\n",
       "      <td>-1.547434</td>\n",
       "      <td>0.500000</td>\n",
       "      <td>-0.677966</td>\n",
       "      <td>0</td>\n",
       "    </tr>\n",
       "    <tr>\n",
       "      <th>99997</th>\n",
       "      <td>1</td>\n",
       "      <td>0.657143</td>\n",
       "      <td>0</td>\n",
       "      <td>0</td>\n",
       "      <td>0.079316</td>\n",
       "      <td>-0.071429</td>\n",
       "      <td>0.254237</td>\n",
       "      <td>0</td>\n",
       "    </tr>\n",
       "    <tr>\n",
       "      <th>99998</th>\n",
       "      <td>0</td>\n",
       "      <td>-0.542857</td>\n",
       "      <td>0</td>\n",
       "      <td>0</td>\n",
       "      <td>1.259720</td>\n",
       "      <td>-1.285714</td>\n",
       "      <td>-0.677966</td>\n",
       "      <td>0</td>\n",
       "    </tr>\n",
       "    <tr>\n",
       "      <th>99999</th>\n",
       "      <td>0</td>\n",
       "      <td>0.400000</td>\n",
       "      <td>0</td>\n",
       "      <td>0</td>\n",
       "      <td>-0.760498</td>\n",
       "      <td>0.571429</td>\n",
       "      <td>-0.847458</td>\n",
       "      <td>0</td>\n",
       "    </tr>\n",
       "  </tbody>\n",
       "</table>\n",
       "<p>96013 rows × 8 columns</p>\n",
       "</div>"
      ],
      "text/plain": [
       "       gender       age  hypertension  heart_disease       bmi  HbA1c_level  \\\n",
       "0           0  1.057143             0              1 -0.331260     0.571429   \n",
       "1           0  0.314286             0              0  0.000000     0.571429   \n",
       "2           1 -0.428571             0              0  0.000000    -0.071429   \n",
       "3           0 -0.200000             0              0 -0.601866    -0.571429   \n",
       "4           1  0.942857             1              1 -1.116641    -0.714286   \n",
       "...       ...       ...           ...            ...       ...          ...   \n",
       "99994       0 -0.200000             0              0 -0.423017    -0.714286   \n",
       "99996       0 -1.171429             0              0 -1.547434     0.500000   \n",
       "99997       1  0.657143             0              0  0.079316    -0.071429   \n",
       "99998       0 -0.542857             0              0  1.259720    -1.285714   \n",
       "99999       0  0.400000             0              0 -0.760498     0.571429   \n",
       "\n",
       "       blood_glucose_level  diabetes  \n",
       "0                 0.000000         0  \n",
       "1                -1.016949         0  \n",
       "2                 0.305085         0  \n",
       "3                 0.254237         0  \n",
       "4                 0.254237         0  \n",
       "...                    ...       ...  \n",
       "99994             0.084746         0  \n",
       "99996            -0.677966         0  \n",
       "99997             0.254237         0  \n",
       "99998            -0.677966         0  \n",
       "99999            -0.847458         0  \n",
       "\n",
       "[96013 rows x 8 columns]"
      ]
     },
     "execution_count": 29,
     "metadata": {},
     "output_type": "execute_result"
    }
   ],
   "source": [
    "columns = ['age', 'bmi', 'HbA1c_level', 'blood_glucose_level']\n",
    "scaler = preprocessing.RobustScaler()\n",
    "data_encoded[columns] = scaler.fit_transform(data_encoded[columns])\n",
    "data_encoded"
   ]
  },
  {
   "cell_type": "markdown",
   "id": "495a4f3a",
   "metadata": {},
   "source": [
    "## 6. Разбить данные на обучающую и тестовую выборки <a id='datatrainrest'></a>(<a href='#menu'>в общее меню</a>)"
   ]
  },
  {
   "cell_type": "markdown",
   "id": "d1c813a0",
   "metadata": {},
   "source": [
    "Разобьем данные на обучающую и тестовую выборки следующим образом: 80% - обучающая выборка, 20% - тестовая."
   ]
  },
  {
   "cell_type": "code",
   "execution_count": 30,
   "id": "064f8cdf",
   "metadata": {},
   "outputs": [
    {
     "data": {
      "text/plain": [
       "(76810, 19203)"
      ]
     },
     "execution_count": 30,
     "metadata": {},
     "output_type": "execute_result"
    }
   ],
   "source": [
    "X = data_encoded.drop('diabetes', axis = 1)\n",
    "y = data_encoded.diabetes\n",
    "\n",
    "X_train, X_test, y_train, y_test = train_test_split(X,y, stratify=y, test_size = 0.2, random_state = 42)\n",
    "N_train, _ = X_train.shape\n",
    "N_test,  _ = X_test.shape\n",
    "\n",
    "N_train, N_test"
   ]
  },
  {
   "cell_type": "code",
   "execution_count": 31,
   "id": "fe034ac1",
   "metadata": {},
   "outputs": [
    {
     "data": {
      "text/plain": [
       "0    17514\n",
       "1     1689\n",
       "Name: diabetes, dtype: int64"
      ]
     },
     "execution_count": 31,
     "metadata": {},
     "output_type": "execute_result"
    }
   ],
   "source": [
    "y_test.value_counts()"
   ]
  },
  {
   "cell_type": "code",
   "execution_count": 32,
   "id": "eb03a6af",
   "metadata": {},
   "outputs": [
    {
     "data": {
      "text/plain": [
       "0    70054\n",
       "1     6756\n",
       "Name: diabetes, dtype: int64"
      ]
     },
     "execution_count": 32,
     "metadata": {},
     "output_type": "execute_result"
    }
   ],
   "source": [
    "y_train.value_counts()"
   ]
  },
  {
   "cell_type": "markdown",
   "id": "9de591e7",
   "metadata": {},
   "source": [
    "классы не сбалансированы"
   ]
  },
  {
   "cell_type": "code",
   "execution_count": 33,
   "id": "252485b8",
   "metadata": {},
   "outputs": [
    {
     "name": "stdout",
     "output_type": "stream",
     "text": [
      "<class 'pandas.core.frame.DataFrame'>\n",
      "Int64Index: 76810 entries, 1713 to 12128\n",
      "Data columns (total 7 columns):\n",
      " #   Column               Non-Null Count  Dtype  \n",
      "---  ------               --------------  -----  \n",
      " 0   gender               76810 non-null  int32  \n",
      " 1   age                  76810 non-null  float64\n",
      " 2   hypertension         76810 non-null  int64  \n",
      " 3   heart_disease        76810 non-null  int64  \n",
      " 4   bmi                  76810 non-null  float64\n",
      " 5   HbA1c_level          76810 non-null  float64\n",
      " 6   blood_glucose_level  76810 non-null  float64\n",
      "dtypes: float64(4), int32(1), int64(2)\n",
      "memory usage: 4.4 MB\n"
     ]
    }
   ],
   "source": [
    "X_train.info()"
   ]
  },
  {
   "cell_type": "markdown",
   "id": "34813b9c",
   "metadata": {},
   "source": [
    "Боремся с дисбалансом классов"
   ]
  },
  {
   "cell_type": "code",
   "execution_count": 34,
   "id": "83908667",
   "metadata": {},
   "outputs": [],
   "source": [
    "smote = SMOTE(sampling_strategy = 'auto', random_state = 42)\n",
    "X_train_resampled, y_train_resampled =smote.fit_resample(X_train, y_train)"
   ]
  },
  {
   "cell_type": "code",
   "execution_count": 35,
   "id": "90481019",
   "metadata": {},
   "outputs": [
    {
     "data": {
      "text/plain": [
       "0    70054\n",
       "1    70054\n",
       "Name: diabetes, dtype: int64"
      ]
     },
     "execution_count": 35,
     "metadata": {},
     "output_type": "execute_result"
    }
   ],
   "source": [
    "y_train_resampled.value_counts()"
   ]
  },
  {
   "cell_type": "markdown",
   "id": "3d432c7e",
   "metadata": {},
   "source": [
    "## 7. Запустить классификатор ближайших соседей <a id='knn'></a>(<a href='#menu'>в общее меню</a>)"
   ]
  },
  {
   "cell_type": "code",
   "execution_count": 36,
   "id": "e6dc445b",
   "metadata": {},
   "outputs": [],
   "source": [
    "knn = KNeighborsClassifier(n_neighbors=1)\n",
    "knn.fit(X_train, y_train)\n",
    "\n",
    "y_pred = knn.predict(X_test)"
   ]
  },
  {
   "cell_type": "code",
   "execution_count": 37,
   "id": "45b8a2ce",
   "metadata": {},
   "outputs": [
    {
     "name": "stdout",
     "output_type": "stream",
     "text": [
      "              precision    recall  f1-score   support\n",
      "\n",
      "           0       0.97      0.98      0.97     17514\n",
      "           1       0.74      0.69      0.71      1689\n",
      "\n",
      "    accuracy                           0.95     19203\n",
      "   macro avg       0.85      0.83      0.84     19203\n",
      "weighted avg       0.95      0.95      0.95     19203\n",
      "\n"
     ]
    }
   ],
   "source": [
    "print(classification_report(y_test, y_pred, target_names=['0', '1']))"
   ]
  },
  {
   "cell_type": "markdown",
   "id": "e37cd87e",
   "metadata": {},
   "source": [
    "#### Подбор оптимального количества ближайших соседей"
   ]
  },
  {
   "cell_type": "code",
   "execution_count": 38,
   "id": "d236dc52",
   "metadata": {},
   "outputs": [
    {
     "data": {
      "image/png": "[encoded data removed]",
      "text/plain": [
       "<Figure size 432x288 with 1 Axes>"
      ]
     },
     "metadata": {
      "needs_background": "light"
     },
     "output_type": "display_data"
    },
    {
     "name": "stdout",
     "output_type": "stream",
     "text": [
      "Оптимальное значение k: 4\n"
     ]
    }
   ],
   "source": [
    "k_values = range(1, 21)\n",
    "accuracies = []\n",
    "\n",
    "for k in k_values:\n",
    "    model = KNeighborsClassifier(n_neighbors=k)\n",
    "    scores = cross_val_score(model, X_train, y_train, cv=5, scoring='accuracy')\n",
    "    accuracies.append(scores.mean())\n",
    "\n",
    "plt.plot(k_values, accuracies)\n",
    "plt.xlabel('Количество соседей (k)')\n",
    "plt.ylabel('Точность')\n",
    "plt.title('Подбор k по метрикам')\n",
    "plt.xticks(k_values)\n",
    "plt.grid()\n",
    "plt.show()\n",
    "\n",
    "optimal_k = k_values[np.argmax(accuracies)]\n",
    "print(f'Оптимальное значение k: {optimal_k}')"
   ]
  },
  {
   "cell_type": "code",
   "execution_count": 39,
   "id": "2130beea",
   "metadata": {},
   "outputs": [],
   "source": [
    "knn = KNeighborsClassifier(n_neighbors=optimal_k)\n",
    "knn.fit(X_train, y_train)\n",
    "\n",
    "y_pred = knn.predict(X_test)"
   ]
  },
  {
   "cell_type": "code",
   "execution_count": 40,
   "id": "7affdbae",
   "metadata": {
    "scrolled": true
   },
   "outputs": [
    {
     "name": "stdout",
     "output_type": "stream",
     "text": [
      "              precision    recall  f1-score   support\n",
      "\n",
      "           0       0.96      1.00      0.98     17514\n",
      "           1       0.95      0.62      0.75      1689\n",
      "\n",
      "    accuracy                           0.96     19203\n",
      "   macro avg       0.96      0.81      0.86     19203\n",
      "weighted avg       0.96      0.96      0.96     19203\n",
      "\n"
     ]
    }
   ],
   "source": [
    "print(classification_report(y_test, y_pred, target_names=['0', '1']))"
   ]
  },
  {
   "cell_type": "markdown",
   "id": "7763f81e",
   "metadata": {},
   "source": [
    "Ошибка на обучающей и тестовой выборках:"
   ]
  },
  {
   "cell_type": "code",
   "execution_count": 41,
   "id": "c1a65396",
   "metadata": {},
   "outputs": [
    {
     "name": "stdout",
     "output_type": "stream",
     "text": [
      "0.03024345788308814 0.03676508878821017\n"
     ]
    }
   ],
   "source": [
    "knn = KNeighborsClassifier(n_neighbors = optimal_k).fit(X_train, y_train)\n",
    "\n",
    "err_train = np.mean(y_train != knn.predict(X_train))\n",
    "err_test  = np.mean(y_test  != knn.predict(X_test))\n",
    "\n",
    "print(err_train, err_test)"
   ]
  },
  {
   "cell_type": "markdown",
   "id": "43226ec4",
   "metadata": {},
   "source": [
    "## 8. Другие классификаторы <a id='another'></a>(<a href='#menu'>в общее меню</a>)"
   ]
  },
  {
   "cell_type": "code",
   "execution_count": 42,
   "id": "8f7b37f1",
   "metadata": {},
   "outputs": [],
   "source": [
    "from sklearn.ensemble import RandomForestClassifier\n",
    "from sklearn.linear_model import LogisticRegression"
   ]
  },
  {
   "cell_type": "markdown",
   "id": "e4e66fcd",
   "metadata": {},
   "source": [
    "#### RandomForestClassifier"
   ]
  },
  {
   "cell_type": "code",
   "execution_count": 43,
   "id": "f2b2079c",
   "metadata": {},
   "outputs": [],
   "source": [
    "clf = RandomForestClassifier(random_state=42)\n",
    "clf.fit(X_train, y_train)\n",
    "\n",
    "y_pred = clf.predict(X_test)"
   ]
  },
  {
   "cell_type": "code",
   "execution_count": 44,
   "id": "3d25c5e8",
   "metadata": {},
   "outputs": [
    {
     "name": "stdout",
     "output_type": "stream",
     "text": [
      "              precision    recall  f1-score   support\n",
      "\n",
      "           0       0.97      0.99      0.98     17514\n",
      "           1       0.93      0.70      0.80      1689\n",
      "\n",
      "    accuracy                           0.97     19203\n",
      "   macro avg       0.95      0.85      0.89     19203\n",
      "weighted avg       0.97      0.97      0.97     19203\n",
      "\n"
     ]
    }
   ],
   "source": [
    "print(classification_report(y_test, y_pred, target_names=['0', '1']))"
   ]
  },
  {
   "cell_type": "markdown",
   "id": "4227a0d3",
   "metadata": {},
   "source": [
    "Попробуем максимизировать метрику recall путем подбора гиперпараметров:"
   ]
  },
  {
   "cell_type": "code",
   "execution_count": 45,
   "id": "b758d318",
   "metadata": {},
   "outputs": [
    {
     "name": "stdout",
     "output_type": "stream",
     "text": [
      "Лучший n_estimators: 1\n",
      "Лучший recall на тестовой выборке: 0.7335701598579041\n"
     ]
    }
   ],
   "source": [
    "n_estimators_values = range(1, 101)\n",
    "\n",
    "best_recall = 0\n",
    "best_n_estimators = 1\n",
    "\n",
    "for n_estimators in n_estimators_values:\n",
    "    model = RandomForestClassifier(n_estimators=n_estimators, random_state=42)\n",
    "    model.fit(X_train, y_train)\n",
    "    y_pred = model.predict(X_test)\n",
    "    current_recall = recall_score(y_test, y_pred)\n",
    "    if current_recall > best_recall:\n",
    "        best_recall = current_recall\n",
    "        best_n_estimators = n_estimators\n",
    "\n",
    "print(\"Лучший n_estimators:\", best_n_estimators)\n",
    "print(\"Лучший recall на тестовой выборке:\", best_recall)"
   ]
  },
  {
   "cell_type": "code",
   "execution_count": 46,
   "id": "ff4e0f44",
   "metadata": {},
   "outputs": [
    {
     "name": "stdout",
     "output_type": "stream",
     "text": [
      "Recall на тестовой выборке с оптимальным n_estimators: 0.7335701598579041\n"
     ]
    }
   ],
   "source": [
    "clf = RandomForestClassifier(n_estimators=best_n_estimators, random_state=42)\n",
    "clf.fit(X_train, y_train)\n",
    "\n",
    "y_pred = clf.predict(X_test)\n",
    "optimal_recall = recall_score(y_test, y_pred)\n",
    "\n",
    "print(\"Recall на тестовой выборке с оптимальным n_estimators:\", optimal_recall)"
   ]
  },
  {
   "cell_type": "code",
   "execution_count": 47,
   "id": "99f8d40c",
   "metadata": {},
   "outputs": [
    {
     "name": "stdout",
     "output_type": "stream",
     "text": [
      "              precision    recall  f1-score   support\n",
      "\n",
      "           0       0.97      0.97      0.97     17514\n",
      "           1       0.72      0.73      0.73      1689\n",
      "\n",
      "    accuracy                           0.95     19203\n",
      "   macro avg       0.85      0.85      0.85     19203\n",
      "weighted avg       0.95      0.95      0.95     19203\n",
      "\n"
     ]
    }
   ],
   "source": [
    "print(classification_report(y_test, y_pred, target_names=['0', '1']))"
   ]
  },
  {
   "cell_type": "markdown",
   "id": "d4980e15",
   "metadata": {},
   "source": [
    "После подбора гиперпараметра, видим, что значение recall немногоулучшилось. Но значение precision немного снизилось. Так как данная задача медицинского характера, то отдадим препочтение метрике recall."
   ]
  },
  {
   "cell_type": "markdown",
   "id": "0fe68cfc",
   "metadata": {},
   "source": [
    "#### LogisticRegression"
   ]
  },
  {
   "cell_type": "code",
   "execution_count": 48,
   "id": "5b7aed1d",
   "metadata": {},
   "outputs": [],
   "source": [
    "clf = LogisticRegression(random_state = 42)\n",
    "clf.fit(X_train, y_train)\n",
    "\n",
    "y_pred = clf.predict(X_test)"
   ]
  },
  {
   "cell_type": "code",
   "execution_count": 49,
   "id": "6817328e",
   "metadata": {},
   "outputs": [
    {
     "name": "stdout",
     "output_type": "stream",
     "text": [
      "              precision    recall  f1-score   support\n",
      "\n",
      "           0       0.96      0.99      0.98     17514\n",
      "           1       0.86      0.62      0.72      1689\n",
      "\n",
      "    accuracy                           0.96     19203\n",
      "   macro avg       0.91      0.81      0.85     19203\n",
      "weighted avg       0.96      0.96      0.95     19203\n",
      "\n"
     ]
    }
   ],
   "source": [
    "print(classification_report(y_test, y_pred, target_names=['0', '1']))"
   ]
  },
  {
   "cell_type": "markdown",
   "id": "85e7930e",
   "metadata": {},
   "source": [
    "Попробуем максимизировать метрику recall путем подбора гиперпараметров:"
   ]
  },
  {
   "cell_type": "code",
   "execution_count": 50,
   "id": "d513be05",
   "metadata": {},
   "outputs": [
    {
     "name": "stdout",
     "output_type": "stream",
     "text": [
      "Лучшие параметры: {'C': 0.3593813663804626, 'penalty': 'l1'}\n",
      "Лучший recall на тестовой выборке: 0.6246299585553582\n"
     ]
    }
   ],
   "source": [
    "C_values = np.logspace(-4, 4, 10)\n",
    "penalties = ['l1', 'l2']\n",
    "\n",
    "best_recall = 0\n",
    "optimal_params = {}\n",
    "\n",
    "for penalty in penalties:\n",
    "    for C in C_values:\n",
    "        model = LogisticRegression(random_state = 42, C=C, penalty=penalty, solver='liblinear')\n",
    "        model.fit(X_train, y_train)\n",
    "        y_pred = model.predict(X_test)\n",
    "        current_recall = recall_score(y_test, y_pred)\n",
    "        if current_recall > best_recall:\n",
    "            best_recall = current_recall\n",
    "            optimal_params = {'C': C, 'penalty': penalty}\n",
    "\n",
    "print(\"Лучшие параметры:\", optimal_params)\n",
    "print(\"Лучший recall на тестовой выборке:\", best_recall)"
   ]
  },
  {
   "cell_type": "code",
   "execution_count": 52,
   "id": "3bd3e6a5",
   "metadata": {},
   "outputs": [
    {
     "name": "stdout",
     "output_type": "stream",
     "text": [
      "Recall на тестовой выборке с оптимальными параметрами: 0.6246299585553582\n"
     ]
    }
   ],
   "source": [
    "clf = LogisticRegression(random_state=42, C=optimal_params['C'], penalty=optimal_params['penalty'], solver='liblinear')\n",
    "clf.fit(X_train, y_train)\n",
    "\n",
    "y_pred = clf.predict(X_test)\n",
    "optimal_recall = recall_score(y_test, y_pred)\n",
    "\n",
    "print(\"Recall на тестовой выборке с оптимальными параметрами:\", optimal_recall)"
   ]
  },
  {
   "cell_type": "code",
   "execution_count": 53,
   "id": "e6a31e3d",
   "metadata": {},
   "outputs": [
    {
     "name": "stdout",
     "output_type": "stream",
     "text": [
      "              precision    recall  f1-score   support\n",
      "\n",
      "           0       0.96      0.99      0.98     17514\n",
      "           1       0.86      0.62      0.72      1689\n",
      "\n",
      "    accuracy                           0.96     19203\n",
      "   macro avg       0.91      0.81      0.85     19203\n",
      "weighted avg       0.96      0.96      0.95     19203\n",
      "\n"
     ]
    }
   ],
   "source": [
    "print(classification_report(y_test, y_pred, target_names=['0', '1']))"
   ]
  },
  {
   "cell_type": "markdown",
   "id": "67ce1f01",
   "metadata": {},
   "source": [
    "Из значений метрик, полученных, после обучения модели с параметрами, подобранными таким образом, чтобы максимизировалась метрика recall, видим, что значение метрики не изменилось. Подбор параметра не улучшил результат."
   ]
  },
  {
   "cell_type": "markdown",
   "id": "fc016540",
   "metadata": {},
   "source": [
    "Построим матрицу рассогласования:"
   ]
  },
  {
   "cell_type": "code",
   "execution_count": 54,
   "id": "cd925d66",
   "metadata": {},
   "outputs": [
    {
     "data": {
      "image/png": "[encoded data removed]",
      "text/plain": [
       "<Figure size 1224x1224 with 2 Axes>"
      ]
     },
     "metadata": {
      "needs_background": "light"
     },
     "output_type": "display_data"
    }
   ],
   "source": [
    "from sklearn.metrics import ConfusionMatrixDisplay\n",
    "fig = plt.figure(figsize=(17, 17))\n",
    "ax = fig.add_subplot(1,1,1)\n",
    "ConfusionMatrixDisplay.from_estimator(knn, X_test, y_test, cmap=plt.cm.Blues, ax=ax)\n",
    "pass"
   ]
  },
  {
   "cell_type": "markdown",
   "id": "9ba8db42",
   "metadata": {},
   "source": [
    "## 9. Выводы <a id='conclusions'></a>(<a href='#menu'>в общее меню</a>)"
   ]
  },
  {
   "cell_type": "markdown",
   "id": "4aac2cb1",
   "metadata": {},
   "source": [
    "#### kNN\n",
    "+ accuracy: около 0.96, но ошибка на тестовых данных выше, чем на обучении. Это указывает на небольшое переобучение.\n",
    "+ F1-score: для класса 0 выше, чем для 1 (дисбаланс данных).\n",
    "+ Precision и Recall: высокая точность для 0 (0.96-1.0) и сравнительно низкая для 1 (0.75-0.80), из-за чего могут быть проблемы с обнаружением класса 0.\n",
    "\n",
    "#### Random Forest\n",
    "+ Accuracy: самая высокая среди моделей. \n",
    "+ F1-score: Хорошо сбалансирован между классами.\n",
    "+ Precision и Recall: Высокие значения для обоих классов, это говорит об устойчивости модели даже при дисбалансе данных. \n",
    "\n",
    "Подбор гиперпараметра для данной модели позволил улучшить результат (увеличит значение recall)\n",
    "\n",
    "#### Logistic Regression\n",
    "+ Accuracy: ниже, чем у остальных моделей.\n",
    "+ F1-score: Для класса 1 значительно ниже, что делает её менее подходящей.\n",
    "+ Precision и Recall: Низкий Recall для класса 1, это говорит о большом числе ложных отрицаний"
   ]
  },
  {
   "cell_type": "markdown",
   "id": "d6543c23",
   "metadata": {},
   "source": [
    "##### Random Forest показал наилучший результат по всем ключевым метрикам и устойчивость к дисбалансу."
   ]
  },
  {
   "cell_type": "code",
   "execution_count": null,
   "id": "a5c16663",
   "metadata": {},
   "outputs": [],
   "source": []
  }
 ],
 "metadata": {
  "kernelspec": {
   "display_name": "Python 3",
   "language": "python",
   "name": "python3"
  },
  "language_info": {
   "codemirror_mode": {
    "name": "ipython",
    "version": 3
   },
   "file_extension": ".py",
   "mimetype": "text/x-python",
   "name": "python",
   "nbconvert_exporter": "python",
   "pygments_lexer": "ipython3",
   "version": "3.8.8"
  }
 },
 "nbformat": 4,
 "nbformat_minor": 5
}
