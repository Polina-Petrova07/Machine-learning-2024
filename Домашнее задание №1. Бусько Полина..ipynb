{
 "cells": [
  {
   "cell_type": "markdown",
   "id": "68742603",
   "metadata": {},
   "source": [
    "# Домашнее задание №1. Бусько Полина."
   ]
  },
  {
   "cell_type": "markdown",
   "id": "d834036b",
   "metadata": {},
   "source": [
    "## Поставновка задачи.\n",
    "\n",
    "Будем решать задачу классификации. Для этого выберем предсказание оценок пользователей на основе других данных. Оценки пользователей можно разделить на три класса: низкий, средний, высокий."
   ]
  },
  {
   "cell_type": "code",
   "execution_count": 1,
   "id": "ae2f8441",
   "metadata": {},
   "outputs": [],
   "source": [
    "import pandas as pd"
   ]
  },
  {
   "cell_type": "code",
   "execution_count": 2,
   "id": "d398dcb0",
   "metadata": {},
   "outputs": [],
   "source": [
    "file_path = 'all_games.csv'\n",
    "data = pd.read_csv(file_path)"
   ]
  },
  {
   "cell_type": "markdown",
   "id": "43aaa545",
   "metadata": {},
   "source": [
    "Первые и последние значения из таблицы данных:"
   ]
  },
  {
   "cell_type": "code",
   "execution_count": 3,
   "id": "b6e6bdd7",
   "metadata": {},
   "outputs": [
    {
     "data": {
      "text/html": [
       "<div>\n",
       "<style scoped>\n",
       "    .dataframe tbody tr th:only-of-type {\n",
       "        vertical-align: middle;\n",
       "    }\n",
       "\n",
       "    .dataframe tbody tr th {\n",
       "        vertical-align: top;\n",
       "    }\n",
       "\n",
       "    .dataframe thead th {\n",
       "        text-align: right;\n",
       "    }\n",
       "</style>\n",
       "<table border=\"1\" class=\"dataframe\">\n",
       "  <thead>\n",
       "    <tr style=\"text-align: right;\">\n",
       "      <th></th>\n",
       "      <th>name</th>\n",
       "      <th>platform</th>\n",
       "      <th>release_date</th>\n",
       "      <th>summary</th>\n",
       "      <th>meta_score</th>\n",
       "      <th>user_review</th>\n",
       "    </tr>\n",
       "  </thead>\n",
       "  <tbody>\n",
       "    <tr>\n",
       "      <th>0</th>\n",
       "      <td>The Legend of Zelda: Ocarina of Time</td>\n",
       "      <td>Nintendo 64</td>\n",
       "      <td>November 23, 1998</td>\n",
       "      <td>As a young boy, Link is tricked by Ganondorf, ...</td>\n",
       "      <td>99</td>\n",
       "      <td>9.1</td>\n",
       "    </tr>\n",
       "    <tr>\n",
       "      <th>1</th>\n",
       "      <td>Tony Hawk's Pro Skater 2</td>\n",
       "      <td>PlayStation</td>\n",
       "      <td>September 20, 2000</td>\n",
       "      <td>As most major publishers' development efforts ...</td>\n",
       "      <td>98</td>\n",
       "      <td>7.4</td>\n",
       "    </tr>\n",
       "    <tr>\n",
       "      <th>2</th>\n",
       "      <td>Grand Theft Auto IV</td>\n",
       "      <td>PlayStation 3</td>\n",
       "      <td>April 29, 2008</td>\n",
       "      <td>[Metacritic's 2008 PS3 Game of the Year; Also ...</td>\n",
       "      <td>98</td>\n",
       "      <td>7.7</td>\n",
       "    </tr>\n",
       "    <tr>\n",
       "      <th>3</th>\n",
       "      <td>SoulCalibur</td>\n",
       "      <td>Dreamcast</td>\n",
       "      <td>September 8, 1999</td>\n",
       "      <td>This is a tale of souls and swords, transcendi...</td>\n",
       "      <td>98</td>\n",
       "      <td>8.4</td>\n",
       "    </tr>\n",
       "    <tr>\n",
       "      <th>4</th>\n",
       "      <td>Grand Theft Auto IV</td>\n",
       "      <td>Xbox 360</td>\n",
       "      <td>April 29, 2008</td>\n",
       "      <td>[Metacritic's 2008 Xbox 360 Game of the Year; ...</td>\n",
       "      <td>98</td>\n",
       "      <td>7.9</td>\n",
       "    </tr>\n",
       "    <tr>\n",
       "      <th>...</th>\n",
       "      <td>...</td>\n",
       "      <td>...</td>\n",
       "      <td>...</td>\n",
       "      <td>...</td>\n",
       "      <td>...</td>\n",
       "      <td>...</td>\n",
       "    </tr>\n",
       "    <tr>\n",
       "      <th>18795</th>\n",
       "      <td>Fast &amp; Furious: Showdown</td>\n",
       "      <td>Xbox 360</td>\n",
       "      <td>May 21, 2013</td>\n",
       "      <td>Fast &amp; Furious: Showdown takes some of the fra...</td>\n",
       "      <td>22</td>\n",
       "      <td>1.3</td>\n",
       "    </tr>\n",
       "    <tr>\n",
       "      <th>18796</th>\n",
       "      <td>Drake of the 99 Dragons</td>\n",
       "      <td>Xbox</td>\n",
       "      <td>November 3, 2003</td>\n",
       "      <td>Drake is out for revenge in a supernatural Hon...</td>\n",
       "      <td>22</td>\n",
       "      <td>1.7</td>\n",
       "    </tr>\n",
       "    <tr>\n",
       "      <th>18797</th>\n",
       "      <td>Afro Samurai 2: Revenge of Kuma Volume One</td>\n",
       "      <td>PlayStation 4</td>\n",
       "      <td>September 22, 2015</td>\n",
       "      <td>Head out on a journey of redemption, driven by...</td>\n",
       "      <td>21</td>\n",
       "      <td>2.9</td>\n",
       "    </tr>\n",
       "    <tr>\n",
       "      <th>18798</th>\n",
       "      <td>Infestation: Survivor Stories (The War Z)</td>\n",
       "      <td>PC</td>\n",
       "      <td>October 15, 2012</td>\n",
       "      <td>(Formerly known as \"The War Z\") It has been 5 ...</td>\n",
       "      <td>20</td>\n",
       "      <td>1.7</td>\n",
       "    </tr>\n",
       "    <tr>\n",
       "      <th>18799</th>\n",
       "      <td>Leisure Suit Larry: Box Office Bust</td>\n",
       "      <td>PC</td>\n",
       "      <td>March 31, 2009</td>\n",
       "      <td>The Leisure Suit Larry: Box Office Bust video ...</td>\n",
       "      <td>20</td>\n",
       "      <td>2.0</td>\n",
       "    </tr>\n",
       "  </tbody>\n",
       "</table>\n",
       "<p>18800 rows × 6 columns</p>\n",
       "</div>"
      ],
      "text/plain": [
       "                                             name        platform  \\\n",
       "0            The Legend of Zelda: Ocarina of Time     Nintendo 64   \n",
       "1                        Tony Hawk's Pro Skater 2     PlayStation   \n",
       "2                             Grand Theft Auto IV   PlayStation 3   \n",
       "3                                     SoulCalibur       Dreamcast   \n",
       "4                             Grand Theft Auto IV        Xbox 360   \n",
       "...                                           ...             ...   \n",
       "18795                    Fast & Furious: Showdown        Xbox 360   \n",
       "18796                     Drake of the 99 Dragons            Xbox   \n",
       "18797  Afro Samurai 2: Revenge of Kuma Volume One   PlayStation 4   \n",
       "18798   Infestation: Survivor Stories (The War Z)              PC   \n",
       "18799         Leisure Suit Larry: Box Office Bust              PC   \n",
       "\n",
       "             release_date                                            summary  \\\n",
       "0       November 23, 1998  As a young boy, Link is tricked by Ganondorf, ...   \n",
       "1      September 20, 2000  As most major publishers' development efforts ...   \n",
       "2          April 29, 2008  [Metacritic's 2008 PS3 Game of the Year; Also ...   \n",
       "3       September 8, 1999  This is a tale of souls and swords, transcendi...   \n",
       "4          April 29, 2008  [Metacritic's 2008 Xbox 360 Game of the Year; ...   \n",
       "...                   ...                                                ...   \n",
       "18795        May 21, 2013  Fast & Furious: Showdown takes some of the fra...   \n",
       "18796    November 3, 2003  Drake is out for revenge in a supernatural Hon...   \n",
       "18797  September 22, 2015  Head out on a journey of redemption, driven by...   \n",
       "18798    October 15, 2012  (Formerly known as \"The War Z\") It has been 5 ...   \n",
       "18799      March 31, 2009  The Leisure Suit Larry: Box Office Bust video ...   \n",
       "\n",
       "       meta_score user_review  \n",
       "0              99         9.1  \n",
       "1              98         7.4  \n",
       "2              98         7.7  \n",
       "3              98         8.4  \n",
       "4              98         7.9  \n",
       "...           ...         ...  \n",
       "18795          22         1.3  \n",
       "18796          22         1.7  \n",
       "18797          21         2.9  \n",
       "18798          20         1.7  \n",
       "18799          20         2.0  \n",
       "\n",
       "[18800 rows x 6 columns]"
      ]
     },
     "execution_count": 3,
     "metadata": {},
     "output_type": "execute_result"
    }
   ],
   "source": [
    "data"
   ]
  },
  {
   "cell_type": "markdown",
   "id": "8db29523",
   "metadata": {},
   "source": [
    "Выведем информацию о датасете:"
   ]
  },
  {
   "cell_type": "code",
   "execution_count": 4,
   "id": "29f28d47",
   "metadata": {},
   "outputs": [
    {
     "name": "stdout",
     "output_type": "stream",
     "text": [
      "<class 'pandas.core.frame.DataFrame'>\n",
      "RangeIndex: 18800 entries, 0 to 18799\n",
      "Data columns (total 6 columns):\n",
      " #   Column        Non-Null Count  Dtype \n",
      "---  ------        --------------  ----- \n",
      " 0   name          18800 non-null  object\n",
      " 1   platform      18800 non-null  object\n",
      " 2   release_date  18800 non-null  object\n",
      " 3   summary       18686 non-null  object\n",
      " 4   meta_score    18800 non-null  int64 \n",
      " 5   user_review   18800 non-null  object\n",
      "dtypes: int64(1), object(5)\n",
      "memory usage: 881.4+ KB\n"
     ]
    }
   ],
   "source": [
    "data.info()"
   ]
  },
  {
   "cell_type": "markdown",
   "id": "782ecd99",
   "metadata": {},
   "source": [
    "Отсюда видно, что имеются следующие признаки:\n",
    "\n",
    "\n",
    "* name - название видеоигры\n",
    "* platform - платформа, на которой он вышла\n",
    "* release_date - дата релиза\n",
    "* summary - описание\n",
    "* meta_score - оценка сообщества\n",
    "* user_review - пользовательский обзор"
   ]
  },
  {
   "cell_type": "markdown",
   "id": "a83addb5",
   "metadata": {},
   "source": [
    "Для категориальных признаков изменим тип на тип category:"
   ]
  },
  {
   "cell_type": "code",
   "execution_count": 5,
   "id": "e7b024d4",
   "metadata": {},
   "outputs": [],
   "source": [
    "data['name'] = data['name'].astype('category')\n",
    "data['release_date'] = data['release_date'].astype('category')"
   ]
  },
  {
   "cell_type": "markdown",
   "id": "eab9b817",
   "metadata": {},
   "source": [
    "Вычислим основные статистические характеристики:"
   ]
  },
  {
   "cell_type": "code",
   "execution_count": 6,
   "id": "e3727717",
   "metadata": {},
   "outputs": [
    {
     "name": "stdout",
     "output_type": "stream",
     "text": [
      "         meta_score\n",
      "count  18800.000000\n",
      "mean      70.648883\n",
      "std       12.225006\n",
      "min       20.000000\n",
      "25%       64.000000\n",
      "50%       72.000000\n",
      "75%       80.000000\n",
      "max       99.000000\n",
      "meta_score    70.648883\n",
      "dtype: float64\n",
      "meta_score    12.225006\n",
      "dtype: float64\n",
      "            meta_score\n",
      "meta_score         1.0\n"
     ]
    }
   ],
   "source": [
    "print(data.describe())\n",
    "print(data.mean())\n",
    "print(data.std())\n",
    "correlation_matrix = data.corr()\n",
    "print(correlation_matrix)"
   ]
  },
  {
   "cell_type": "code",
   "execution_count": 7,
   "id": "e9dd2d70",
   "metadata": {},
   "outputs": [],
   "source": [
    "import matplotlib.pyplot as plt\n",
    "import seaborn as sns"
   ]
  },
  {
   "cell_type": "code",
   "execution_count": 8,
   "id": "32b8e242",
   "metadata": {},
   "outputs": [
    {
     "data": {
      "image/png": "[encoded data removed]",
      "text/plain": [
       "<Figure size 1080x720 with 1 Axes>"
      ]
     },
     "metadata": {
      "needs_background": "light"
     },
     "output_type": "display_data"
    }
   ],
   "source": [
    "data.hist(bins=15, figsize=(15, 10))\n",
    "plt.show()"
   ]
  },
  {
   "cell_type": "markdown",
   "id": "663a1a95",
   "metadata": {},
   "source": [
    "Обработка пропущенных значений."
   ]
  },
  {
   "cell_type": "code",
   "execution_count": 9,
   "id": "3c69d8ce",
   "metadata": {},
   "outputs": [
    {
     "name": "stdout",
     "output_type": "stream",
     "text": [
      "Пропущенные значения в каждом столбце:\n",
      "name              0\n",
      "platform          0\n",
      "release_date      0\n",
      "summary         114\n",
      "meta_score        0\n",
      "user_review       0\n",
      "dtype: int64\n",
      "\n",
      "Общее количество пропуcков: 114\n"
     ]
    }
   ],
   "source": [
    "missing_values = data.isnull().sum()\n",
    "print(\"Пропущенные значения в каждом столбце:\")\n",
    "print(missing_values)\n",
    "\n",
    "all_missing = missing_values.sum()\n",
    "print(f\"\\nОбщее количество пропуcков: {all_missing}\")\n"
   ]
  },
  {
   "cell_type": "code",
   "execution_count": 10,
   "id": "5f06e97c",
   "metadata": {},
   "outputs": [],
   "source": [
    "data = data.dropna()"
   ]
  },
  {
   "cell_type": "code",
   "execution_count": 11,
   "id": "37abbdb9",
   "metadata": {},
   "outputs": [
    {
     "name": "stdout",
     "output_type": "stream",
     "text": [
      "Пропущенные значения после обработки:\n",
      "name            0\n",
      "platform        0\n",
      "release_date    0\n",
      "summary         0\n",
      "meta_score      0\n",
      "user_review     0\n",
      "dtype: int64\n"
     ]
    }
   ],
   "source": [
    "print(\"Пропущенные значения после обработки:\")\n",
    "print(data.isnull().sum())"
   ]
  },
  {
   "cell_type": "markdown",
   "id": "f7cfbe3b",
   "metadata": {},
   "source": [
    "Обработаем категориальные признаки"
   ]
  },
  {
   "cell_type": "markdown",
   "id": "147f4b7c",
   "metadata": {},
   "source": [
    "Применим метод бинаризации к категориальным признакам"
   ]
  },
  {
   "cell_type": "code",
   "execution_count": 12,
   "id": "91a1122f",
   "metadata": {},
   "outputs": [
    {
     "name": "stdout",
     "output_type": "stream",
     "text": [
      "Index(['name_#DRIVE', 'name_#IDARB', 'name_#KILLALLZOMBIES',\n",
      "       'name_'Splosion Man', 'name_.detuned', 'name_.hack//G.U. Last Recode',\n",
      "       'name_.hack//G.U. vol. 1//Rebirth',\n",
      "       'name_.hack//G.U. vol. 2//Reminisce',\n",
      "       'name_.hack//G.U. vol. 3//Redemption', 'name_.hack//Infection Part 1',\n",
      "       ...\n",
      "       'release_date_September 9, 2004', 'release_date_September 9, 2008',\n",
      "       'release_date_September 9, 2009', 'release_date_September 9, 2011',\n",
      "       'release_date_September 9, 2014', 'release_date_September 9, 2015',\n",
      "       'release_date_September 9, 2016', 'release_date_September 9, 2019',\n",
      "       'release_date_September 9, 2020', 'release_date_September 9, 2021'],\n",
      "      dtype='object', length=16787)\n"
     ]
    }
   ],
   "source": [
    "data_nonbinary = pd.get_dummies(data[['name','release_date']])\n",
    "print(data_nonbinary.columns)"
   ]
  },
  {
   "cell_type": "code",
   "execution_count": 13,
   "id": "122b5f21",
   "metadata": {},
   "outputs": [],
   "source": [
    "data = pd.concat((data, data_nonbinary), axis=1).drop(['name', 'release_date'], axis=1)"
   ]
  },
  {
   "cell_type": "markdown",
   "id": "3b7fa971",
   "metadata": {},
   "source": [
    "Нормализацию данных можно не делать, так как числовой признак meta_score усреднены по каждой игре, и заключен в извстный интервал."
   ]
  },
  {
   "cell_type": "markdown",
   "id": "55e3b87d",
   "metadata": {},
   "source": [
    "Обработаем текстовые признаки:"
   ]
  },
  {
   "cell_type": "code",
   "execution_count": 14,
   "id": "4c53ffed",
   "metadata": {},
   "outputs": [
    {
     "data": {
      "text/plain": [
       "dtype('O')"
      ]
     },
     "execution_count": 14,
     "metadata": {},
     "output_type": "execute_result"
    }
   ],
   "source": [
    "data['summary'].dtype"
   ]
  },
  {
   "cell_type": "markdown",
   "id": "d1df623f",
   "metadata": {},
   "source": [
    "Приводим текст к нижнему регистру:"
   ]
  },
  {
   "cell_type": "code",
   "execution_count": 15,
   "id": "60b3bef7",
   "metadata": {},
   "outputs": [],
   "source": [
    "def lower(text):\n",
    "    return text.lower()\n",
    "\n",
    "data['Text'] = data['summary'].apply(lambda x:lower(x))"
   ]
  },
  {
   "cell_type": "markdown",
   "id": "2daa9ac1",
   "metadata": {},
   "source": [
    "Убираем пунктуацию и лишние пробелы"
   ]
  },
  {
   "cell_type": "code",
   "execution_count": 16,
   "id": "f523b06a",
   "metadata": {},
   "outputs": [],
   "source": [
    "import re\n",
    "def punct_remove(text):\n",
    "    return re.sub(r'[^\\w\\s]', '', text)\n",
    "\n",
    "def remove_space(text):\n",
    "    return re.sub(r\"\\s+\",\" \",text).strip()\n",
    "\n",
    "data['Text'] = data['Text'].apply(lambda x:punct_remove(x))\n",
    "data['Text'] = data['Text'].apply(lambda x:remove_space(x))"
   ]
  },
  {
   "cell_type": "markdown",
   "id": "9a6364ec",
   "metadata": {},
   "source": [
    "Выполняем стемминг - находим основы слова для заданного исходного слова:"
   ]
  },
  {
   "cell_type": "code",
   "execution_count": 17,
   "id": "ad0be346",
   "metadata": {},
   "outputs": [],
   "source": [
    "from nltk.stem import PorterStemmer\n",
    "\n",
    "def stemming(text):\n",
    "    return ' '.join([PorterStemmer().stem(w) for w in text.split()])\n",
    "\n",
    "data['Text'] = data['Text'].apply(lambda x:stemming(x))"
   ]
  },
  {
   "cell_type": "markdown",
   "id": "048e1e0a",
   "metadata": {},
   "source": [
    "### Разбиваем данные на обучающую и тестовую выборки, запускаем классификатор"
   ]
  },
  {
   "cell_type": "code",
   "execution_count": 18,
   "id": "dc195264",
   "metadata": {},
   "outputs": [],
   "source": [
    "from sklearn.model_selection import train_test_split\n",
    "from sklearn.neighbors import KNeighborsClassifier\n",
    "from sklearn.metrics import classification_report\n",
    "from sklearn.preprocessing import LabelEncoder"
   ]
  },
  {
   "cell_type": "code",
   "execution_count": 19,
   "id": "7ae4c9f6",
   "metadata": {},
   "outputs": [],
   "source": [
    "data['user_review'] = pd.to_numeric(data['user_review'], errors='coerce')\n",
    "data = data.dropna(subset=['user_review'])\n",
    "\n",
    "data['review_class'] = pd.cut(data['user_review'], bins=[0, 5, 7.5, 10], labels=[0, 1, 2])\n",
    "\n",
    "le = LabelEncoder()\n",
    "data['platform_encoded'] = le.fit_transform(data['platform'])\n",
    "\n",
    "\n",
    "X = data[['meta_score', 'platform_encoded']]\n",
    "y = data['review_class'].astype(int)"
   ]
  },
  {
   "cell_type": "code",
   "execution_count": 20,
   "id": "8f888c6b",
   "metadata": {},
   "outputs": [],
   "source": [
    "X_train, X_test, y_train, y_test = train_test_split(X, y, test_size=0.3, random_state=42)\n",
    "\n",
    "knn = KNeighborsClassifier(n_neighbors=5)\n",
    "knn.fit(X_train, y_train)\n",
    "\n",
    "y_pred = knn.predict(X_test)"
   ]
  },
  {
   "cell_type": "code",
   "execution_count": 21,
   "id": "f9ca2690",
   "metadata": {},
   "outputs": [
    {
     "name": "stdout",
     "output_type": "stream",
     "text": [
      "              precision    recall  f1-score   support\n",
      "\n",
      "         low       0.41      0.22      0.29       536\n",
      "      middle       0.61      0.70      0.65      2590\n",
      "       hight       0.65      0.60      0.63      2077\n",
      "\n",
      "    accuracy                           0.61      5203\n",
      "   macro avg       0.55      0.51      0.52      5203\n",
      "weighted avg       0.60      0.61      0.60      5203\n",
      "\n"
     ]
    }
   ],
   "source": [
    "print(classification_report(y_test, y_pred, target_names=['low', 'middle', 'hight']))"
   ]
  },
  {
   "cell_type": "code",
   "execution_count": 22,
   "id": "cf7c8d48",
   "metadata": {},
   "outputs": [],
   "source": [
    "from sklearn.neighbors import KNeighborsClassifier\n",
    "from sklearn.model_selection import GridSearchCV\n",
    "\n",
    "k_arr = [1, 2, 3, 4, 5, 6, 7, 8, 9, 10, 12, 14, 16, 18, 20, 25, 35, 45, 55]\n",
    "knn = KNeighborsClassifier()\n",
    "grid = GridSearchCV(knn, param_grid = {'n_neighbors': k_arr}, cv=4)\n",
    "grid.fit(X_train, y_train)\n",
    "\n",
    "best_cv_err = 1 - grid.best_score_\n",
    "best_n_neighbors = grid.best_estimator_.n_neighbors"
   ]
  },
  {
   "cell_type": "code",
   "execution_count": 23,
   "id": "411de834",
   "metadata": {},
   "outputs": [
    {
     "name": "stdout",
     "output_type": "stream",
     "text": [
      "0.33712255068585684 45\n"
     ]
    }
   ],
   "source": [
    "print(best_cv_err, best_n_neighbors)"
   ]
  },
  {
   "cell_type": "markdown",
   "id": "3bd1c480",
   "metadata": {},
   "source": [
    "Ошибка на обучающей и тестовой выборках:"
   ]
  },
  {
   "cell_type": "code",
   "execution_count": 24,
   "id": "e4e4ab57",
   "metadata": {},
   "outputs": [
    {
     "name": "stdout",
     "output_type": "stream",
     "text": [
      "0.3261657604218158 0.3478762252546608\n"
     ]
    }
   ],
   "source": [
    "import numpy as np\n",
    "\n",
    "knn = KNeighborsClassifier(n_neighbors = best_n_neighbors).fit(X_train, y_train)\n",
    "\n",
    "err_train = np.mean(y_train != knn.predict(X_train))\n",
    "err_test  = np.mean(y_test  != knn.predict(X_test))\n",
    "\n",
    "print(err_train, err_test)"
   ]
  },
  {
   "cell_type": "markdown",
   "id": "7cdebe0b",
   "metadata": {},
   "source": [
    "Изменим количество ближайших соседий:"
   ]
  },
  {
   "cell_type": "code",
   "execution_count": 25,
   "id": "ad91e3b3",
   "metadata": {},
   "outputs": [
    {
     "name": "stdout",
     "output_type": "stream",
     "text": [
      "              precision    recall  f1-score   support\n",
      "\n",
      "         low       0.63      0.17      0.27       536\n",
      "      middle       0.63      0.75      0.69      2590\n",
      "       hight       0.68      0.65      0.67      2077\n",
      "\n",
      "    accuracy                           0.65      5203\n",
      "   macro avg       0.65      0.53      0.54      5203\n",
      "weighted avg       0.65      0.65      0.64      5203\n",
      "\n"
     ]
    }
   ],
   "source": [
    "X_train, X_test, y_train, y_test = train_test_split(X, y, test_size=0.3, random_state=42)\n",
    "\n",
    "knn = KNeighborsClassifier(n_neighbors=45)\n",
    "knn.fit(X_train, y_train)\n",
    "\n",
    "y_pred = knn.predict(X_test)\n",
    "print(classification_report(y_test, y_pred, target_names=['low', 'middle', 'hight']))"
   ]
  },
  {
   "cell_type": "markdown",
   "id": "8e83e18d",
   "metadata": {},
   "source": [
    "## Итог\n",
    "\n",
    "В ходе работы были выполнены задачи:\n",
    "\n",
    "Описана задача\n",
    "Прочитаны данные\n",
    "Визуализированы данные и вычислены основные характеристики\n",
    "Обработаны пропущенные значения\n",
    "Обработаны категориальные признаки\n",
    "Обработаны текстовые признаки\n",
    "Запущен классификатор ближайших соседей для разных количеств\n",
    "Вычислена ошибка на обучающей и тестовой выборках.\n",
    "\n",
    "По представленным данным видно, что модель лучше классифицирует средние и высокие оценки (в особенности средние), но хуже справляется с низкими. Это может быть связано с дисбалансом в классах. "
   ]
  }
 ],
 "metadata": {
  "kernelspec": {
   "display_name": "Python 3",
   "language": "python",
   "name": "python3"
  },
  "language_info": {
   "codemirror_mode": {
    "name": "ipython",
    "version": 3
   },
   "file_extension": ".py",
   "mimetype": "text/x-python",
   "name": "python",
   "nbconvert_exporter": "python",
   "pygments_lexer": "ipython3",
   "version": "3.8.8"
  }
 },
 "nbformat": 4,
 "nbformat_minor": 5
}
